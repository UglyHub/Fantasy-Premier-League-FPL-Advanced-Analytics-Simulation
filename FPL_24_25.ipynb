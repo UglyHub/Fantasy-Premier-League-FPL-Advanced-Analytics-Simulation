{
  "cells": [
    {
      "cell_type": "code",
      "execution_count": 1,
      "metadata": {
        "id": "2fFsvtPwauCn"
      },
      "outputs": [],
      "source": [
        "import pandas as pd\n",
        "df = pd.read_csv('fpl_playerstats_2024-25.csv')"
      ]
    },
    {
      "cell_type": "code",
      "execution_count": 2,
      "metadata": {
        "colab": {
          "base_uri": "https://localhost:8080/"
        },
        "collapsed": true,
        "id": "FUllcmZHb6qq",
        "outputId": "ffadaf78-99f8-4488-8c19-325ccd3d6010"
      },
      "outputs": [
        {
          "name": "stdout",
          "output_type": "stream",
          "text": [
            "   id  player_cost first_name           second_name  player_form       status  \\\n",
            "0   1          5.4      Fábio       Ferreira Vieira          0.0  Unavailable   \n",
            "1   2          6.8    Gabriel     Fernando de Jesus          0.3    Available   \n",
            "2   3          6.1    Gabriel  dos Santos Magalhães          8.0    Available   \n",
            "3   4          8.1        Kai               Havertz          4.0    Available   \n",
            "4   5          4.0       Karl                  Hein          0.0  Unavailable   \n",
            "\n",
            "   minutes player_position  goals_scored  assists  ...  red_cards  gw1_points  \\\n",
            "0        0             MID             0        0  ...          0         0.0   \n",
            "1       18             FWD             0        0  ...          0         0.0   \n",
            "2      450             DEF             2        0  ...          0         6.0   \n",
            "3      450             FWD             2        1  ...          0        12.0   \n",
            "4        0             GKP             0        0  ...          0         0.0   \n",
            "\n",
            "   gw2_points  gw3_points  gw4_points  gw5_points  team_name  team_form  \\\n",
            "0         0.0         0.0         0.0         0.0    Arsenal        NaN   \n",
            "1         0.0         0.0         1.0         0.0    Arsenal        NaN   \n",
            "2         6.0         2.0        15.0         7.0    Arsenal        NaN   \n",
            "3         2.0         8.0         2.0         2.0    Arsenal        NaN   \n",
            "4         0.0         0.0         0.0         0.0    Arsenal        NaN   \n",
            "\n",
            "   team_strength  total_points  \n",
            "0              5           0.0  \n",
            "1              5           1.0  \n",
            "2              5          36.0  \n",
            "3              5          26.0  \n",
            "4              5           0.0  \n",
            "\n",
            "[5 rows x 32 columns]\n"
          ]
        }
      ],
      "source": [
        "print(df.head())"
      ]
    },
    {
      "cell_type": "markdown",
      "metadata": {
        "id": "iQrhK-JtjpHE"
      },
      "source": [
        "# Player Archetype Clustering with Multimodal Embeddings\n",
        "\n",
        "Objective: Cluster players into novel archetypes using numerical stats (e.g., goals_scored, assists, influence) and textual embeddings of player and team names, revealing hidden patterns in player roles.\n",
        "\n",
        "Novelty: Combines numerical FPL stats with NLP-derived embeddings to uncover archetypes beyond traditional position-based groupings, offering a new lens on player similarity."
      ]
    },
    {
      "cell_type": "code",
      "execution_count": 3,
      "metadata": {
        "id": "s3xhXWLrjp_j"
      },
      "outputs": [],
      "source": [
        "import pandas as pd\n",
        "import numpy as np\n",
        "from sklearn.preprocessing import StandardScaler\n",
        "from transformers import AutoTokenizer, AutoModel\n",
        "import torch\n",
        "from umap import UMAP\n",
        "from sklearn.cluster import KMeans\n",
        "import matplotlib.pyplot as plt"
      ]
    },
    {
      "cell_type": "markdown",
      "metadata": {
        "id": "pPtJgQh6j4Gb"
      },
      "source": [
        "# Load and preprocess the dataset\n",
        "\n",
        "Note: Load the CSV file and select relevant numerical and text features.\n",
        "\n",
        "Justification: Numerical features capture performance; text features add semantic context."
      ]
    },
    {
      "cell_type": "code",
      "execution_count": 4,
      "metadata": {
        "id": "JMSfpeq9j03s"
      },
      "outputs": [],
      "source": [
        "df = pd.read_csv('fpl_playerstats_2024-25.csv')\n",
        "num_features = ['goals_scored', 'assists', 'influence', 'creativity', 'threat', 'player_cost', 'total_points']\n",
        "text_feature = df['first_name'] + ' ' + df['second_name'] + ' ' + df['team_name']"
      ]
    },
    {
      "cell_type": "markdown",
      "metadata": {
        "id": "FDXArj5CkHNz"
      },
      "source": [
        "# Normalize numerical features\n",
        "Note: Standardize numerical features to ensure equal weighting in clustering.\n",
        "\n",
        "Justification: Prevents features with larger scales (e.g., influence) from dominating."
      ]
    },
    {
      "cell_type": "code",
      "execution_count": 5,
      "metadata": {
        "id": "f347K7kwkOnq"
      },
      "outputs": [],
      "source": [
        "scaler = StandardScaler()\n",
        "X_num = scaler.fit_transform(df[num_features])"
      ]
    },
    {
      "cell_type": "markdown",
      "metadata": {
        "id": "ZYuEmKFLkSgK"
      },
      "source": [
        "# Generate text embeddings using BERT\n",
        "\n",
        "Note: Use a pre-trained BERT model to encode player and team names.\n",
        "\n",
        "Justification: BERT captures semantic relationships, e.g., similar player roles or team styles."
      ]
    },
    {
      "cell_type": "code",
      "execution_count": 6,
      "metadata": {
        "colab": {
          "base_uri": "https://localhost:8080/",
          "height": 281,
          "referenced_widgets": [
            "4e6b7e7ac4e94942b91f35150ce28cb1",
            "9624b461b48a4de3a51d2cc14ef4db29",
            "25a4a6ff373646808b561e8911b19c45",
            "db811746d8044c749726a127f2e63b8d",
            "ad85313ed27c4704857d1df1ff241244",
            "f6797c92310e40459ffad8946d2c9bcd",
            "8f606507b2894c15965d20af24b668fe",
            "1e876358b0f345d4a712aa01f702c7ae",
            "9ac314f750d44cc68d2dfa1edf7daafb",
            "7e0a27a43e1b4ce2a6ca2aabf7db5744",
            "235fc5937e014b3494f4a84d9804cb99",
            "f8d9ee6e1a394af48a99e7acb3cd8d35",
            "f29b47868be54e9ca1161afed85530fa",
            "a76fdbf17dc246b2a493c95cc1d084b9",
            "32011a10cca041ef9baec03e6732378d",
            "70072101d4ca4d5fa525dd51ba2da541",
            "36152f2cd9d146848f1e8cb77ec43148",
            "a4a648795da845bda386b5a2ea4dd226",
            "f9a47e07e38a48189786381e9062176c",
            "ef24928e0f584fb88192d5f50afcd334",
            "12f3961cf241430e9c0d085b8f04ca0d",
            "c3b37021f8994b578c1913b697960073",
            "d10a322f48f4410cbb04d47a651f2678",
            "80d652fe1c314c22a5e8e226717229b5",
            "4bec0ce95dd04888ab87160e793aef1c",
            "a168f618a8de4d85bee1cc027deefec8",
            "13fd9ea2704d4e6ca11c659cd2a2f68a",
            "0e4a0ca4b94a4637943d659662adf94c",
            "13190eafded24c4397f7c798c91282de",
            "638d999299cd4e499f3ccd69678a1a6f",
            "c305394ebbf8457b93250f102333f40b",
            "3400c9874e5d47e5a876002556ae8ba2",
            "ed558567f2254f0facadca0ab51ad516",
            "3a19e8cabdac4355ac08bdedd016c947",
            "74258524f6d246f7b29cc68991ec94d2",
            "c3d3da999ce24026bf11387343fd5848",
            "07925f55270142eb8135202a1d5f4859",
            "7dc1c2430fb9422ea8850f53010cb809",
            "b5f95f99adec413f81164bc76c38dbd9",
            "bc6593a9d1734d8bb5ef3632c3c0c284",
            "78e5f701cdf845b1af3b46dbd2f3b53b",
            "b7f8147d753443068062648527ebfdc6",
            "c6487618ba534f469d9cc17b3c003ced",
            "0a210d45adb44b6fbe057e4071bc84ec",
            "0c86d6904d904f04b0f194249f53cf3d",
            "dc3d23fb49cf450ba72acc9e7ccd5a68",
            "6b0c59da67624452a3c36c5c31541a88",
            "0fb26328f4ed4e42ad63ee9a9ed1eded",
            "8bdd62a4b3dd4e0f801e63395fbca1e3",
            "a32d506e11c14c68b5375d863789ba83",
            "78b8dcd1a9ee487baa3b61d17e6033cb",
            "84ecb12ae05045efbe0e9664c2411140",
            "c62434ffe8814aa1a613666099e91638",
            "0930de79f9df4d80b2ab165ffbc293a0",
            "d201aa9df61f417d96c6dcc0740684e1"
          ]
        },
        "id": "3bm0YZ8pkbyC",
        "outputId": "bcd57d7b-c51a-40af-cb1d-9a36bc143c89"
      },
      "outputs": [
        {
          "name": "stderr",
          "output_type": "stream",
          "text": [
            "/usr/local/lib/python3.11/dist-packages/huggingface_hub/utils/_auth.py:94: UserWarning: \n",
            "The secret `HF_TOKEN` does not exist in your Colab secrets.\n",
            "To authenticate with the Hugging Face Hub, create a token in your settings tab (https://huggingface.co/settings/tokens), set it as secret in your Google Colab and restart your session.\n",
            "You will be able to reuse this secret in all of your notebooks.\n",
            "Please note that authentication is recommended but still optional to access public models or datasets.\n",
            "  warnings.warn(\n"
          ]
        },
        {
          "data": {
            "application/vnd.jupyter.widget-view+json": {
              "model_id": "4e6b7e7ac4e94942b91f35150ce28cb1",
              "version_major": 2,
              "version_minor": 0
            },
            "text/plain": [
              "tokenizer_config.json:   0%|          | 0.00/48.0 [00:00<?, ?B/s]"
            ]
          },
          "metadata": {},
          "output_type": "display_data"
        },
        {
          "data": {
            "application/vnd.jupyter.widget-view+json": {
              "model_id": "f8d9ee6e1a394af48a99e7acb3cd8d35",
              "version_major": 2,
              "version_minor": 0
            },
            "text/plain": [
              "config.json:   0%|          | 0.00/570 [00:00<?, ?B/s]"
            ]
          },
          "metadata": {},
          "output_type": "display_data"
        },
        {
          "data": {
            "application/vnd.jupyter.widget-view+json": {
              "model_id": "d10a322f48f4410cbb04d47a651f2678",
              "version_major": 2,
              "version_minor": 0
            },
            "text/plain": [
              "vocab.txt:   0%|          | 0.00/232k [00:00<?, ?B/s]"
            ]
          },
          "metadata": {},
          "output_type": "display_data"
        },
        {
          "data": {
            "application/vnd.jupyter.widget-view+json": {
              "model_id": "3a19e8cabdac4355ac08bdedd016c947",
              "version_major": 2,
              "version_minor": 0
            },
            "text/plain": [
              "tokenizer.json:   0%|          | 0.00/466k [00:00<?, ?B/s]"
            ]
          },
          "metadata": {},
          "output_type": "display_data"
        },
        {
          "data": {
            "application/vnd.jupyter.widget-view+json": {
              "model_id": "0c86d6904d904f04b0f194249f53cf3d",
              "version_major": 2,
              "version_minor": 0
            },
            "text/plain": [
              "model.safetensors:   0%|          | 0.00/440M [00:00<?, ?B/s]"
            ]
          },
          "metadata": {},
          "output_type": "display_data"
        }
      ],
      "source": [
        "tokenizer = AutoTokenizer.from_pretrained('bert-base-uncased')\n",
        "model = AutoModel.from_pretrained('bert-base-uncased')\n",
        "inputs = tokenizer(text_feature.tolist(), return_tensors='pt', padding=True, truncation=True, max_length=128)\n",
        "with torch.no_grad():\n",
        "    embeddings = model(**inputs).last_hidden_state.mean(dim=1).numpy()"
      ]
    },
    {
      "cell_type": "markdown",
      "metadata": {
        "id": "T9fRievykh6E"
      },
      "source": [
        "# Combine numerical and text features\n",
        "\n",
        "Note: Concatenate normalized numerical features and text embeddings.\n",
        "\n",
        "Justification: Multimodal features enable richer clustering."
      ]
    },
    {
      "cell_type": "code",
      "execution_count": 7,
      "metadata": {
        "id": "jk2Fbp7HkoeK"
      },
      "outputs": [],
      "source": [
        "X_combined = np.concatenate([X_num, embeddings], axis=1)"
      ]
    },
    {
      "cell_type": "markdown",
      "metadata": {
        "id": "MDe6Govmkr8i"
      },
      "source": [
        "# Dimensionality reduction with UMAP\n",
        "\n",
        "\n",
        "Note: Reduce dimensionality for clustering and visualization.\n",
        "\n",
        "Justification: UMAP preserves local structure better than PCA for clustering tasks."
      ]
    },
    {
      "cell_type": "code",
      "execution_count": 8,
      "metadata": {
        "colab": {
          "base_uri": "https://localhost:8080/"
        },
        "id": "RbHo_AZzky0h",
        "outputId": "a4101d56-2096-42ea-d8a4-83b1a3f33127"
      },
      "outputs": [
        {
          "name": "stderr",
          "output_type": "stream",
          "text": [
            "/usr/local/lib/python3.11/dist-packages/umap/umap_.py:1952: UserWarning: n_jobs value 1 overridden to 1 by setting random_state. Use no seed for parallelism.\n",
            "  warn(\n"
          ]
        }
      ],
      "source": [
        "umap = UMAP(n_components=2, random_state=42)\n",
        "X_reduced = umap.fit_transform(X_combined)"
      ]
    },
    {
      "cell_type": "markdown",
      "metadata": {
        "id": "NKYk4WDzk3ET"
      },
      "source": [
        "# Cluster players using K-Means\n",
        "\n",
        "Note: Apply K-Means to group players into archetypes (e.g., 5 clusters).\n",
        "\n",
        "Justification: K-Means is simple and effective for discovering distinct player groups.\n"
      ]
    },
    {
      "cell_type": "code",
      "execution_count": 9,
      "metadata": {
        "id": "hHRCqMM9k-1j"
      },
      "outputs": [],
      "source": [
        "kmeans = KMeans(n_clusters=5, random_state=42)\n",
        "clusters = kmeans.fit_predict(X_reduced)"
      ]
    },
    {
      "cell_type": "markdown",
      "metadata": {
        "id": "gv7b9dexlApj"
      },
      "source": [
        "# Visualize and analyze clusters\n",
        "\n",
        "Note: Plot clusters and display sample players per cluster.\n",
        "\n",
        "Justification: Visualization helps interpret archetypes; sampling provides concrete examples."
      ]
    },
    {
      "cell_type": "code",
      "execution_count": 10,
      "metadata": {
        "colab": {
          "base_uri": "https://localhost:8080/",
          "height": 472
        },
        "id": "s_XlEXPIlGk6",
        "outputId": "f50e56ff-b6e2-4859-cf7c-f69377cd2c13"
      },
      "outputs": [
        {
          "data": {
            "image/png": "[encoded data removed]",
            "text/plain": [
              "<Figure size 640x480 with 1 Axes>"
            ]
          },
          "metadata": {},
          "output_type": "display_data"
        }
      ],
      "source": [
        "plt.scatter(X_reduced[:, 0], X_reduced[:, 1], c=clusters, cmap='viridis')\n",
        "plt.title('Player Archetype Clusters')\n",
        "plt.xlabel('UMAP Component 1')\n",
        "plt.ylabel('UMAP Component 2')\n",
        "plt.show()"
      ]
    },
    {
      "cell_type": "markdown",
      "metadata": {
        "id": "OAaKL3PelPBZ"
      },
      "source": [
        "# Display sample players per cluster"
      ]
    },
    {
      "cell_type": "code",
      "execution_count": 11,
      "metadata": {
        "colab": {
          "base_uri": "https://localhost:8080/"
        },
        "collapsed": true,
        "id": "Hw8GtZralPfZ",
        "outputId": "930a25a3-5cf5-49af-cec8-27ae32c7199a"
      },
      "outputs": [
        {
          "name": "stdout",
          "output_type": "stream",
          "text": [
            "\n",
            "Cluster 0:\n",
            "   first_name second_name player_position  total_points\n",
            "3         Kai     Havertz             FWD          26.0\n",
            "9       Ethan     Nwaneri             MID           1.0\n",
            "13     Bukayo        Saka             MID          35.0\n",
            "\n",
            "Cluster 1:\n",
            "   first_name second_name player_position  total_points\n",
            "5     Jurriën      Timber             DEF          15.0\n",
            "12     Declan        Rice             MID           4.0\n",
            "16     Kieran     Tierney             DEF           0.0\n",
            "\n",
            "Cluster 2:\n",
            "  first_name           second_name player_position  total_points\n",
            "0      Fábio       Ferreira Vieira             MID           0.0\n",
            "1    Gabriel     Fernando de Jesus             FWD           1.0\n",
            "2    Gabriel  dos Santos Magalhães             DEF          36.0\n",
            "\n",
            "Cluster 3:\n",
            "   first_name second_name player_position  total_points\n",
            "4        Karl        Hein             GKP           0.0\n",
            "7       Jakub      Kiwior             DEF           1.0\n",
            "10     Martin    Ødegaard             MID           7.0\n",
            "\n",
            "Cluster 4:\n",
            "   first_name   second_name player_position  total_points\n",
            "15     Thomas        Partey             MID          19.0\n",
            "24      Myles  Lewis-Skelly             MID           0.0\n",
            "27      Tommy       Setford             GKP           0.0\n"
          ]
        }
      ],
      "source": [
        "df['cluster'] = clusters\n",
        "for cluster in range(5):\n",
        "    print(f\"\\nCluster {cluster}:\")\n",
        "    print(df[df['cluster'] == cluster][['first_name', 'second_name', 'player_position', 'total_points']].head(3))"
      ]
    },
    {
      "cell_type": "markdown",
      "metadata": {
        "id": "SwOGVN_OL4Us"
      },
      "source": [
        "# Dynamic Player Valuation with Reinforcement Learning\n",
        "\n",
        "Objective: Use reinforcement learning (RL) to dynamically adjust player valuations (player_cost) based on performance trends and team context, optimizing for points per million.\n",
        "\n",
        "Novelty: Simulates a dynamic pricing system, unlike FPL’s static pricing, to explore optimal cost adjustments."
      ]
    },
    {
      "cell_type": "code",
      "execution_count": 12,
      "metadata": {
        "colab": {
          "base_uri": "https://localhost:8080/",
          "height": 1000
        },
        "collapsed": true,
        "id": "LxhS9sh-N1_Q",
        "outputId": "499f9a83-7977-489c-832b-830d1893ac64"
      },
      "outputs": [
        {
          "name": "stdout",
          "output_type": "stream",
          "text": [
            "Collecting stable-baselines3\n",
            "  Downloading stable_baselines3-2.6.0-py3-none-any.whl.metadata (4.8 kB)\n",
            "Collecting gymnasium<1.2.0,>=0.29.1 (from stable-baselines3)\n",
            "  Downloading gymnasium-1.1.1-py3-none-any.whl.metadata (9.4 kB)\n",
            "Requirement already satisfied: numpy<3.0,>=1.20 in /usr/local/lib/python3.11/dist-packages (from stable-baselines3) (2.0.2)\n",
            "Requirement already satisfied: torch<3.0,>=2.3 in /usr/local/lib/python3.11/dist-packages (from stable-baselines3) (2.6.0+cu124)\n",
            "Requirement already satisfied: cloudpickle in /usr/local/lib/python3.11/dist-packages (from stable-baselines3) (3.1.1)\n",
            "Requirement already satisfied: pandas in /usr/local/lib/python3.11/dist-packages (from stable-baselines3) (2.2.2)\n",
            "Requirement already satisfied: matplotlib in /usr/local/lib/python3.11/dist-packages (from stable-baselines3) (3.10.0)\n",
            "Requirement already satisfied: typing-extensions>=4.3.0 in /usr/local/lib/python3.11/dist-packages (from gymnasium<1.2.0,>=0.29.1->stable-baselines3) (4.14.0)\n",
            "Requirement already satisfied: farama-notifications>=0.0.1 in /usr/local/lib/python3.11/dist-packages (from gymnasium<1.2.0,>=0.29.1->stable-baselines3) (0.0.4)\n",
            "Requirement already satisfied: filelock in /usr/local/lib/python3.11/dist-packages (from torch<3.0,>=2.3->stable-baselines3) (3.18.0)\n",
            "Requirement already satisfied: networkx in /usr/local/lib/python3.11/dist-packages (from torch<3.0,>=2.3->stable-baselines3) (3.5)\n",
            "Requirement already satisfied: jinja2 in /usr/local/lib/python3.11/dist-packages (from torch<3.0,>=2.3->stable-baselines3) (3.1.6)\n",
            "Requirement already satisfied: fsspec in /usr/local/lib/python3.11/dist-packages (from torch<3.0,>=2.3->stable-baselines3) (2025.3.2)\n",
            "Collecting nvidia-cuda-nvrtc-cu12==12.4.127 (from torch<3.0,>=2.3->stable-baselines3)\n",
            "  Downloading nvidia_cuda_nvrtc_cu12-12.4.127-py3-none-manylinux2014_x86_64.whl.metadata (1.5 kB)\n",
            "Collecting nvidia-cuda-runtime-cu12==12.4.127 (from torch<3.0,>=2.3->stable-baselines3)\n",
            "  Downloading nvidia_cuda_runtime_cu12-12.4.127-py3-none-manylinux2014_x86_64.whl.metadata (1.5 kB)\n",
            "Collecting nvidia-cuda-cupti-cu12==12.4.127 (from torch<3.0,>=2.3->stable-baselines3)\n",
            "  Downloading nvidia_cuda_cupti_cu12-12.4.127-py3-none-manylinux2014_x86_64.whl.metadata (1.6 kB)\n",
            "Collecting nvidia-cudnn-cu12==9.1.0.70 (from torch<3.0,>=2.3->stable-baselines3)\n",
            "  Downloading nvidia_cudnn_cu12-9.1.0.70-py3-none-manylinux2014_x86_64.whl.metadata (1.6 kB)\n",
            "Collecting nvidia-cublas-cu12==12.4.5.8 (from torch<3.0,>=2.3->stable-baselines3)\n",
            "  Downloading nvidia_cublas_cu12-12.4.5.8-py3-none-manylinux2014_x86_64.whl.metadata (1.5 kB)\n",
            "Collecting nvidia-cufft-cu12==11.2.1.3 (from torch<3.0,>=2.3->stable-baselines3)\n",
            "  Downloading nvidia_cufft_cu12-11.2.1.3-py3-none-manylinux2014_x86_64.whl.metadata (1.5 kB)\n",
            "Collecting nvidia-curand-cu12==10.3.5.147 (from torch<3.0,>=2.3->stable-baselines3)\n",
            "  Downloading nvidia_curand_cu12-10.3.5.147-py3-none-manylinux2014_x86_64.whl.metadata (1.5 kB)\n",
            "Collecting nvidia-cusolver-cu12==11.6.1.9 (from torch<3.0,>=2.3->stable-baselines3)\n",
            "  Downloading nvidia_cusolver_cu12-11.6.1.9-py3-none-manylinux2014_x86_64.whl.metadata (1.6 kB)\n",
            "Collecting nvidia-cusparse-cu12==12.3.1.170 (from torch<3.0,>=2.3->stable-baselines3)\n",
            "  Downloading nvidia_cusparse_cu12-12.3.1.170-py3-none-manylinux2014_x86_64.whl.metadata (1.6 kB)\n",
            "Requirement already satisfied: nvidia-cusparselt-cu12==0.6.2 in /usr/local/lib/python3.11/dist-packages (from torch<3.0,>=2.3->stable-baselines3) (0.6.2)\n",
            "Requirement already satisfied: nvidia-nccl-cu12==2.21.5 in /usr/local/lib/python3.11/dist-packages (from torch<3.0,>=2.3->stable-baselines3) (2.21.5)\n",
            "Requirement already satisfied: nvidia-nvtx-cu12==12.4.127 in /usr/local/lib/python3.11/dist-packages (from torch<3.0,>=2.3->stable-baselines3) (12.4.127)\n",
            "Collecting nvidia-nvjitlink-cu12==12.4.127 (from torch<3.0,>=2.3->stable-baselines3)\n",
            "  Downloading nvidia_nvjitlink_cu12-12.4.127-py3-none-manylinux2014_x86_64.whl.metadata (1.5 kB)\n",
            "Requirement already satisfied: triton==3.2.0 in /usr/local/lib/python3.11/dist-packages (from torch<3.0,>=2.3->stable-baselines3) (3.2.0)\n",
            "Requirement already satisfied: sympy==1.13.1 in /usr/local/lib/python3.11/dist-packages (from torch<3.0,>=2.3->stable-baselines3) (1.13.1)\n",
            "Requirement already satisfied: mpmath<1.4,>=1.1.0 in /usr/local/lib/python3.11/dist-packages (from sympy==1.13.1->torch<3.0,>=2.3->stable-baselines3) (1.3.0)\n",
            "Requirement already satisfied: contourpy>=1.0.1 in /usr/local/lib/python3.11/dist-packages (from matplotlib->stable-baselines3) (1.3.2)\n",
            "Requirement already satisfied: cycler>=0.10 in /usr/local/lib/python3.11/dist-packages (from matplotlib->stable-baselines3) (0.12.1)\n",
            "Requirement already satisfied: fonttools>=4.22.0 in /usr/local/lib/python3.11/dist-packages (from matplotlib->stable-baselines3) (4.58.4)\n",
            "Requirement already satisfied: kiwisolver>=1.3.1 in /usr/local/lib/python3.11/dist-packages (from matplotlib->stable-baselines3) (1.4.8)\n",
            "Requirement already satisfied: packaging>=20.0 in /usr/local/lib/python3.11/dist-packages (from matplotlib->stable-baselines3) (24.2)\n",
            "Requirement already satisfied: pillow>=8 in /usr/local/lib/python3.11/dist-packages (from matplotlib->stable-baselines3) (11.2.1)\n",
            "Requirement already satisfied: pyparsing>=2.3.1 in /usr/local/lib/python3.11/dist-packages (from matplotlib->stable-baselines3) (3.2.3)\n",
            "Requirement already satisfied: python-dateutil>=2.7 in /usr/local/lib/python3.11/dist-packages (from matplotlib->stable-baselines3) (2.9.0.post0)\n",
            "Requirement already satisfied: pytz>=2020.1 in /usr/local/lib/python3.11/dist-packages (from pandas->stable-baselines3) (2025.2)\n",
            "Requirement already satisfied: tzdata>=2022.7 in /usr/local/lib/python3.11/dist-packages (from pandas->stable-baselines3) (2025.2)\n",
            "Requirement already satisfied: six>=1.5 in /usr/local/lib/python3.11/dist-packages (from python-dateutil>=2.7->matplotlib->stable-baselines3) (1.17.0)\n",
            "Requirement already satisfied: MarkupSafe>=2.0 in /usr/local/lib/python3.11/dist-packages (from jinja2->torch<3.0,>=2.3->stable-baselines3) (3.0.2)\n",
            "Downloading stable_baselines3-2.6.0-py3-none-any.whl (184 kB)\n",
            "\u001b[2K   \u001b[90m━━━━━━━━━━━━━━━━━━━━━━━━━━━━━━━━━━━━━━━━\u001b[0m \u001b[32m184.5/184.5 kB\u001b[0m \u001b[31m4.8 MB/s\u001b[0m eta \u001b[36m0:00:00\u001b[0m\n",
            "\u001b[?25hDownloading gymnasium-1.1.1-py3-none-any.whl (965 kB)\n",
            "\u001b[2K   \u001b[90m━━━━━━━━━━━━━━━━━━━━━━━━━━━━━━━━━━━━━━━━\u001b[0m \u001b[32m965.4/965.4 kB\u001b[0m \u001b[31m22.0 MB/s\u001b[0m eta \u001b[36m0:00:00\u001b[0m\n",
            "\u001b[?25hDownloading nvidia_cublas_cu12-12.4.5.8-py3-none-manylinux2014_x86_64.whl (363.4 MB)\n",
            "\u001b[2K   \u001b[90m━━━━━━━━━━━━━━━━━━━━━━━━━━━━━━━━━━━━━━━━\u001b[0m \u001b[32m363.4/363.4 MB\u001b[0m \u001b[31m1.5 MB/s\u001b[0m eta \u001b[36m0:00:00\u001b[0m\n",
            "\u001b[?25hDownloading nvidia_cuda_cupti_cu12-12.4.127-py3-none-manylinux2014_x86_64.whl (13.8 MB)\n",
            "\u001b[2K   \u001b[90m━━━━━━━━━━━━━━━━━━━━━━━━━━━━━━━━━━━━━━━━\u001b[0m \u001b[32m13.8/13.8 MB\u001b[0m \u001b[31m77.1 MB/s\u001b[0m eta \u001b[36m0:00:00\u001b[0m\n",
            "\u001b[?25hDownloading nvidia_cuda_nvrtc_cu12-12.4.127-py3-none-manylinux2014_x86_64.whl (24.6 MB)\n",
            "\u001b[2K   \u001b[90m━━━━━━━━━━━━━━━━━━━━━━━━━━━━━━━━━━━━━━━━\u001b[0m \u001b[32m24.6/24.6 MB\u001b[0m \u001b[31m60.2 MB/s\u001b[0m eta \u001b[36m0:00:00\u001b[0m\n",
            "\u001b[?25hDownloading nvidia_cuda_runtime_cu12-12.4.127-py3-none-manylinux2014_x86_64.whl (883 kB)\n",
            "\u001b[2K   \u001b[90m━━━━━━━━━━━━━━━━━━━━━━━━━━━━━━━━━━━━━━━━\u001b[0m \u001b[32m883.7/883.7 kB\u001b[0m \u001b[31m50.0 MB/s\u001b[0m eta \u001b[36m0:00:00\u001b[0m\n",
            "\u001b[?25hDownloading nvidia_cudnn_cu12-9.1.0.70-py3-none-manylinux2014_x86_64.whl (664.8 MB)\n",
            "\u001b[2K   \u001b[90m━━━━━━━━━━━━━━━━━━━━━━━━━━━━━━━━━━━━━━━━\u001b[0m \u001b[32m664.8/664.8 MB\u001b[0m \u001b[31m1.3 MB/s\u001b[0m eta \u001b[36m0:00:00\u001b[0m\n",
            "\u001b[?25hDownloading nvidia_cufft_cu12-11.2.1.3-py3-none-manylinux2014_x86_64.whl (211.5 MB)\n",
            "\u001b[2K   \u001b[90m━━━━━━━━━━━━━━━━━━━━━━━━━━━━━━━━━━━━━━━━\u001b[0m \u001b[32m211.5/211.5 MB\u001b[0m \u001b[31m6.0 MB/s\u001b[0m eta \u001b[36m0:00:00\u001b[0m\n",
            "\u001b[?25hDownloading nvidia_curand_cu12-10.3.5.147-py3-none-manylinux2014_x86_64.whl (56.3 MB)\n",
            "\u001b[2K   \u001b[90m━━━━━━━━━━━━━━━━━━━━━━━━━━━━━━━━━━━━━━━━\u001b[0m \u001b[32m56.3/56.3 MB\u001b[0m \u001b[31m13.5 MB/s\u001b[0m eta \u001b[36m0:00:00\u001b[0m\n",
            "\u001b[?25hDownloading nvidia_cusolver_cu12-11.6.1.9-py3-none-manylinux2014_x86_64.whl (127.9 MB)\n",
            "\u001b[2K   \u001b[90m━━━━━━━━━━━━━━━━━━━━━━━━━━━━━━━━━━━━━━━━\u001b[0m \u001b[32m127.9/127.9 MB\u001b[0m \u001b[31m8.0 MB/s\u001b[0m eta \u001b[36m0:00:00\u001b[0m\n",
            "\u001b[?25hDownloading nvidia_cusparse_cu12-12.3.1.170-py3-none-manylinux2014_x86_64.whl (207.5 MB)\n",
            "\u001b[2K   \u001b[90m━━━━━━━━━━━━━━━━━━━━━━━━━━━━━━━━━━━━━━━━\u001b[0m \u001b[32m207.5/207.5 MB\u001b[0m \u001b[31m6.7 MB/s\u001b[0m eta \u001b[36m0:00:00\u001b[0m\n",
            "\u001b[?25hDownloading nvidia_nvjitlink_cu12-12.4.127-py3-none-manylinux2014_x86_64.whl (21.1 MB)\n",
            "\u001b[2K   \u001b[90m━━━━━━━━━━━━━━━━━━━━━━━━━━━━━━━━━━━━━━━━\u001b[0m \u001b[32m21.1/21.1 MB\u001b[0m \u001b[31m68.2 MB/s\u001b[0m eta \u001b[36m0:00:00\u001b[0m\n",
            "\u001b[?25hInstalling collected packages: nvidia-nvjitlink-cu12, nvidia-curand-cu12, nvidia-cufft-cu12, nvidia-cuda-runtime-cu12, nvidia-cuda-nvrtc-cu12, nvidia-cuda-cupti-cu12, nvidia-cublas-cu12, gymnasium, nvidia-cusparse-cu12, nvidia-cudnn-cu12, nvidia-cusolver-cu12, stable-baselines3\n",
            "  Attempting uninstall: nvidia-nvjitlink-cu12\n",
            "    Found existing installation: nvidia-nvjitlink-cu12 12.5.82\n",
            "    Uninstalling nvidia-nvjitlink-cu12-12.5.82:\n",
            "      Successfully uninstalled nvidia-nvjitlink-cu12-12.5.82\n",
            "  Attempting uninstall: nvidia-curand-cu12\n",
            "    Found existing installation: nvidia-curand-cu12 10.3.6.82\n",
            "    Uninstalling nvidia-curand-cu12-10.3.6.82:\n",
            "      Successfully uninstalled nvidia-curand-cu12-10.3.6.82\n",
            "  Attempting uninstall: nvidia-cufft-cu12\n",
            "    Found existing installation: nvidia-cufft-cu12 11.2.3.61\n",
            "    Uninstalling nvidia-cufft-cu12-11.2.3.61:\n",
            "      Successfully uninstalled nvidia-cufft-cu12-11.2.3.61\n",
            "  Attempting uninstall: nvidia-cuda-runtime-cu12\n",
            "    Found existing installation: nvidia-cuda-runtime-cu12 12.5.82\n",
            "    Uninstalling nvidia-cuda-runtime-cu12-12.5.82:\n",
            "      Successfully uninstalled nvidia-cuda-runtime-cu12-12.5.82\n",
            "  Attempting uninstall: nvidia-cuda-nvrtc-cu12\n",
            "    Found existing installation: nvidia-cuda-nvrtc-cu12 12.5.82\n",
            "    Uninstalling nvidia-cuda-nvrtc-cu12-12.5.82:\n",
            "      Successfully uninstalled nvidia-cuda-nvrtc-cu12-12.5.82\n",
            "  Attempting uninstall: nvidia-cuda-cupti-cu12\n",
            "    Found existing installation: nvidia-cuda-cupti-cu12 12.5.82\n",
            "    Uninstalling nvidia-cuda-cupti-cu12-12.5.82:\n",
            "      Successfully uninstalled nvidia-cuda-cupti-cu12-12.5.82\n",
            "  Attempting uninstall: nvidia-cublas-cu12\n",
            "    Found existing installation: nvidia-cublas-cu12 12.5.3.2\n",
            "    Uninstalling nvidia-cublas-cu12-12.5.3.2:\n",
            "      Successfully uninstalled nvidia-cublas-cu12-12.5.3.2\n",
            "  Attempting uninstall: gymnasium\n",
            "    Found existing installation: gymnasium 1.2.0\n",
            "    Uninstalling gymnasium-1.2.0:\n",
            "      Successfully uninstalled gymnasium-1.2.0\n",
            "  Attempting uninstall: nvidia-cusparse-cu12\n",
            "    Found existing installation: nvidia-cusparse-cu12 12.5.1.3\n",
            "    Uninstalling nvidia-cusparse-cu12-12.5.1.3:\n",
            "      Successfully uninstalled nvidia-cusparse-cu12-12.5.1.3\n",
            "  Attempting uninstall: nvidia-cudnn-cu12\n",
            "    Found existing installation: nvidia-cudnn-cu12 9.3.0.75\n",
            "    Uninstalling nvidia-cudnn-cu12-9.3.0.75:\n",
            "      Successfully uninstalled nvidia-cudnn-cu12-9.3.0.75\n",
            "  Attempting uninstall: nvidia-cusolver-cu12\n",
            "    Found existing installation: nvidia-cusolver-cu12 11.6.3.83\n",
            "    Uninstalling nvidia-cusolver-cu12-11.6.3.83:\n",
            "      Successfully uninstalled nvidia-cusolver-cu12-11.6.3.83\n",
            "Successfully installed gymnasium-1.1.1 nvidia-cublas-cu12-12.4.5.8 nvidia-cuda-cupti-cu12-12.4.127 nvidia-cuda-nvrtc-cu12-12.4.127 nvidia-cuda-runtime-cu12-12.4.127 nvidia-cudnn-cu12-9.1.0.70 nvidia-cufft-cu12-11.2.1.3 nvidia-curand-cu12-10.3.5.147 nvidia-cusolver-cu12-11.6.1.9 nvidia-cusparse-cu12-12.3.1.170 nvidia-nvjitlink-cu12-12.4.127 stable-baselines3-2.6.0\n"
          ]
        },
        {
          "data": {
            "application/vnd.colab-display-data+json": {
              "id": "8ab5e642a4b74c589cc14f5298db7312",
              "pip_warning": {
                "packages": [
                  "nvidia"
                ]
              }
            }
          },
          "metadata": {},
          "output_type": "display_data"
        }
      ],
      "source": [
        "!pip install stable-baselines3"
      ]
    },
    {
      "cell_type": "code",
      "execution_count": 1,
      "metadata": {
        "colab": {
          "base_uri": "https://localhost:8080/"
        },
        "collapsed": true,
        "id": "Jtr3BXEJZcD_",
        "outputId": "579982bc-80cd-4585-ea15-87c80774718e"
      },
      "outputs": [
        {
          "name": "stdout",
          "output_type": "stream",
          "text": [
            "Requirement already satisfied: gymnasium in /usr/local/lib/python3.11/dist-packages (1.1.1)\n",
            "Requirement already satisfied: stable-baselines3 in /usr/local/lib/python3.11/dist-packages (2.6.0)\n",
            "Requirement already satisfied: numpy in /usr/local/lib/python3.11/dist-packages (2.0.2)\n",
            "Requirement already satisfied: pandas in /usr/local/lib/python3.11/dist-packages (2.2.2)\n",
            "Requirement already satisfied: cloudpickle>=1.2.0 in /usr/local/lib/python3.11/dist-packages (from gymnasium) (3.1.1)\n",
            "Requirement already satisfied: typing-extensions>=4.3.0 in /usr/local/lib/python3.11/dist-packages (from gymnasium) (4.14.0)\n",
            "Requirement already satisfied: farama-notifications>=0.0.1 in /usr/local/lib/python3.11/dist-packages (from gymnasium) (0.0.4)\n",
            "Requirement already satisfied: torch<3.0,>=2.3 in /usr/local/lib/python3.11/dist-packages (from stable-baselines3) (2.6.0+cu124)\n",
            "Requirement already satisfied: matplotlib in /usr/local/lib/python3.11/dist-packages (from stable-baselines3) (3.10.0)\n",
            "Requirement already satisfied: python-dateutil>=2.8.2 in /usr/local/lib/python3.11/dist-packages (from pandas) (2.9.0.post0)\n",
            "Requirement already satisfied: pytz>=2020.1 in /usr/local/lib/python3.11/dist-packages (from pandas) (2025.2)\n",
            "Requirement already satisfied: tzdata>=2022.7 in /usr/local/lib/python3.11/dist-packages (from pandas) (2025.2)\n",
            "Requirement already satisfied: six>=1.5 in /usr/local/lib/python3.11/dist-packages (from python-dateutil>=2.8.2->pandas) (1.17.0)\n",
            "Requirement already satisfied: filelock in /usr/local/lib/python3.11/dist-packages (from torch<3.0,>=2.3->stable-baselines3) (3.18.0)\n",
            "Requirement already satisfied: networkx in /usr/local/lib/python3.11/dist-packages (from torch<3.0,>=2.3->stable-baselines3) (3.5)\n",
            "Requirement already satisfied: jinja2 in /usr/local/lib/python3.11/dist-packages (from torch<3.0,>=2.3->stable-baselines3) (3.1.6)\n",
            "Requirement already satisfied: fsspec in /usr/local/lib/python3.11/dist-packages (from torch<3.0,>=2.3->stable-baselines3) (2025.3.2)\n",
            "Requirement already satisfied: nvidia-cuda-nvrtc-cu12==12.4.127 in /usr/local/lib/python3.11/dist-packages (from torch<3.0,>=2.3->stable-baselines3) (12.4.127)\n",
            "Requirement already satisfied: nvidia-cuda-runtime-cu12==12.4.127 in /usr/local/lib/python3.11/dist-packages (from torch<3.0,>=2.3->stable-baselines3) (12.4.127)\n",
            "Requirement already satisfied: nvidia-cuda-cupti-cu12==12.4.127 in /usr/local/lib/python3.11/dist-packages (from torch<3.0,>=2.3->stable-baselines3) (12.4.127)\n",
            "Requirement already satisfied: nvidia-cudnn-cu12==9.1.0.70 in /usr/local/lib/python3.11/dist-packages (from torch<3.0,>=2.3->stable-baselines3) (9.1.0.70)\n",
            "Requirement already satisfied: nvidia-cublas-cu12==12.4.5.8 in /usr/local/lib/python3.11/dist-packages (from torch<3.0,>=2.3->stable-baselines3) (12.4.5.8)\n",
            "Requirement already satisfied: nvidia-cufft-cu12==11.2.1.3 in /usr/local/lib/python3.11/dist-packages (from torch<3.0,>=2.3->stable-baselines3) (11.2.1.3)\n",
            "Requirement already satisfied: nvidia-curand-cu12==10.3.5.147 in /usr/local/lib/python3.11/dist-packages (from torch<3.0,>=2.3->stable-baselines3) (10.3.5.147)\n",
            "Requirement already satisfied: nvidia-cusolver-cu12==11.6.1.9 in /usr/local/lib/python3.11/dist-packages (from torch<3.0,>=2.3->stable-baselines3) (11.6.1.9)\n",
            "Requirement already satisfied: nvidia-cusparse-cu12==12.3.1.170 in /usr/local/lib/python3.11/dist-packages (from torch<3.0,>=2.3->stable-baselines3) (12.3.1.170)\n",
            "Requirement already satisfied: nvidia-cusparselt-cu12==0.6.2 in /usr/local/lib/python3.11/dist-packages (from torch<3.0,>=2.3->stable-baselines3) (0.6.2)\n",
            "Requirement already satisfied: nvidia-nccl-cu12==2.21.5 in /usr/local/lib/python3.11/dist-packages (from torch<3.0,>=2.3->stable-baselines3) (2.21.5)\n",
            "Requirement already satisfied: nvidia-nvtx-cu12==12.4.127 in /usr/local/lib/python3.11/dist-packages (from torch<3.0,>=2.3->stable-baselines3) (12.4.127)\n",
            "Requirement already satisfied: nvidia-nvjitlink-cu12==12.4.127 in /usr/local/lib/python3.11/dist-packages (from torch<3.0,>=2.3->stable-baselines3) (12.4.127)\n",
            "Requirement already satisfied: triton==3.2.0 in /usr/local/lib/python3.11/dist-packages (from torch<3.0,>=2.3->stable-baselines3) (3.2.0)\n",
            "Requirement already satisfied: sympy==1.13.1 in /usr/local/lib/python3.11/dist-packages (from torch<3.0,>=2.3->stable-baselines3) (1.13.1)\n",
            "Requirement already satisfied: mpmath<1.4,>=1.1.0 in /usr/local/lib/python3.11/dist-packages (from sympy==1.13.1->torch<3.0,>=2.3->stable-baselines3) (1.3.0)\n",
            "Requirement already satisfied: contourpy>=1.0.1 in /usr/local/lib/python3.11/dist-packages (from matplotlib->stable-baselines3) (1.3.2)\n",
            "Requirement already satisfied: cycler>=0.10 in /usr/local/lib/python3.11/dist-packages (from matplotlib->stable-baselines3) (0.12.1)\n",
            "Requirement already satisfied: fonttools>=4.22.0 in /usr/local/lib/python3.11/dist-packages (from matplotlib->stable-baselines3) (4.58.4)\n",
            "Requirement already satisfied: kiwisolver>=1.3.1 in /usr/local/lib/python3.11/dist-packages (from matplotlib->stable-baselines3) (1.4.8)\n",
            "Requirement already satisfied: packaging>=20.0 in /usr/local/lib/python3.11/dist-packages (from matplotlib->stable-baselines3) (24.2)\n",
            "Requirement already satisfied: pillow>=8 in /usr/local/lib/python3.11/dist-packages (from matplotlib->stable-baselines3) (11.2.1)\n",
            "Requirement already satisfied: pyparsing>=2.3.1 in /usr/local/lib/python3.11/dist-packages (from matplotlib->stable-baselines3) (3.2.3)\n",
            "Requirement already satisfied: MarkupSafe>=2.0 in /usr/local/lib/python3.11/dist-packages (from jinja2->torch<3.0,>=2.3->stable-baselines3) (3.0.2)\n"
          ]
        }
      ],
      "source": [
        "!pip install gymnasium stable-baselines3 numpy pandas"
      ]
    },
    {
      "cell_type": "code",
      "execution_count": 2,
      "metadata": {
        "id": "FY8QeOjgMA0i"
      },
      "outputs": [],
      "source": [
        "import gymnasium as gym\n",
        "import numpy as np\n",
        "import pandas as pd\n",
        "from stable_baselines3 import PPO\n",
        "from stable_baselines3.common.env_checker import check_env"
      ]
    },
    {
      "cell_type": "markdown",
      "metadata": {
        "id": "LZlZ09iqMFoZ"
      },
      "source": [
        "# Step 1: Define the RL environment\n",
        "# Note: Create a custom Gym environment for player pricing.\n",
        "# Justification: RL requires a state-action-reward framework; this simulates pricing decisions."
      ]
    },
    {
      "cell_type": "code",
      "execution_count": 3,
      "metadata": {
        "id": "TT5fxDehMJGq"
      },
      "outputs": [],
      "source": [
        "class FPLEnvironment(gym.Env):\n",
        "    def __init__(self, df):\n",
        "        super().__init__()\n",
        "        self.df = df\n",
        "        self.action_space = gym.spaces.Discrete(3)  # 0: Increase cost, 1: Decrease cost, 2: Keep cost\n",
        "        self.observation_space = gym.spaces.Box(\n",
        "            low=0, high=np.inf, shape=(3,), dtype=np.float32\n",
        "        )  # player_form, total_points, team_strength\n",
        "        self.current_player = 0\n",
        "        self.max_steps = len(df)\n",
        "\n",
        "    def step(self, action):\n",
        "        # Adjust cost and calculate reward\n",
        "        current_cost = self.df.iloc[self.current_player]['player_cost']\n",
        "        if action == 0:  # Increase by 0.1\n",
        "            new_cost = current_cost + 0.1\n",
        "        elif action == 1:  # Decrease by 0.1 (minimum 0.1)\n",
        "            new_cost = max(current_cost - 0.1, 0.1)\n",
        "        else:  # Keep\n",
        "            new_cost = current_cost\n",
        "        # Reward: points per million (avoid division by zero)\n",
        "        reward = self.df.iloc[self.current_player]['total_points'] / max(new_cost, 0.1)\n",
        "        self.current_player = (self.current_player + 1) % self.max_steps\n",
        "        done = self.current_player == 0\n",
        "        truncated = False  # Gymnasium requires truncated flag\n",
        "        return self._get_obs(), reward, done, truncated, {}\n",
        "\n",
        "    def reset(self, seed=None):\n",
        "        # Reset environment with optional seed for reproducibility\n",
        "        super().reset(seed=seed)\n",
        "        self.current_player = 0\n",
        "        return self._get_obs(), {}\n",
        "\n",
        "    def _get_obs(self):\n",
        "        # Return observation as numpy array\n",
        "        return self.df.iloc[self.current_player][['player_form', 'total_points', 'team_strength']].values.astype(np.float32)"
      ]
    },
    {
      "cell_type": "markdown",
      "metadata": {
        "id": "k5lm7XjWNJPy"
      },
      "source": [
        "# Step 2: Load and preprocess data\n",
        "# Note: Load CSV and select relevant features for the RL state.\n",
        "# Justification: Features like form and points capture performance; team strength adds context."
      ]
    },
    {
      "cell_type": "code",
      "execution_count": 4,
      "metadata": {
        "id": "v0DmeOeaNMkk"
      },
      "outputs": [],
      "source": [
        "df = pd.read_csv('fpl_playerstats_2024-25.csv')\n",
        "df = df.fillna(0)  # Replace NaNs with 0 for simplicity\n",
        "# Ensure selected columns are numeric\n",
        "df['player_form'] = pd.to_numeric(df['player_form'], errors='coerce').fillna(0)\n",
        "df['total_points'] = pd.to_numeric(df['total_points'], errors='coerce').fillna(0)\n",
        "df['team_strength'] = pd.to_numeric(df['team_strength'], errors='coerce').fillna(0)\n",
        "df['player_cost'] = pd.to_numeric(df['player_cost'], errors='coerce').fillna(0.1)"
      ]
    },
    {
      "cell_type": "markdown",
      "metadata": {
        "id": "3ZuAmeFsNPhp"
      },
      "source": [
        "# Step 3: Initialize and validate environment\n",
        "# Note: Create and check the custom environment.\n",
        "# Justification: Ensures the environment is compatible with Stable-Baselines3."
      ]
    },
    {
      "cell_type": "code",
      "execution_count": 5,
      "metadata": {
        "id": "Roaig7DANV-L"
      },
      "outputs": [],
      "source": [
        "env = FPLEnvironment(df)\n",
        "check_env(env)"
      ]
    },
    {
      "cell_type": "markdown",
      "metadata": {
        "id": "2_2s6ZJ6NZGe"
      },
      "source": [
        "# Step 4: Train PPO model\n",
        "# Note: Use PPO for RL training due to its stability.\n",
        "# Justification: PPO is sample-efficient and suitable for Colab’s resources."
      ]
    },
    {
      "cell_type": "code",
      "execution_count": 6,
      "metadata": {
        "colab": {
          "base_uri": "https://localhost:8080/"
        },
        "id": "00Tr7CU6NcSC",
        "outputId": "0f9d179f-e976-45c7-dea8-72f409c1b0d8"
      },
      "outputs": [
        {
          "name": "stdout",
          "output_type": "stream",
          "text": [
            "Using cpu device\n",
            "Wrapping the env with a `Monitor` wrapper\n",
            "Wrapping the env in a DummyVecEnv.\n",
            "---------------------------------\n",
            "| rollout/           |          |\n",
            "|    ep_len_mean     | 661      |\n",
            "|    ep_rew_mean     | 732      |\n",
            "| time/              |          |\n",
            "|    fps             | 239      |\n",
            "|    iterations      | 1        |\n",
            "|    time_elapsed    | 8        |\n",
            "|    total_timesteps | 2048     |\n",
            "---------------------------------\n",
            "-----------------------------------------\n",
            "| rollout/                |             |\n",
            "|    ep_len_mean          | 661         |\n",
            "|    ep_rew_mean          | 732         |\n",
            "| time/                   |             |\n",
            "|    fps                  | 207         |\n",
            "|    iterations           | 2           |\n",
            "|    time_elapsed         | 19          |\n",
            "|    total_timesteps      | 4096        |\n",
            "| train/                  |             |\n",
            "|    approx_kl            | 0.010213833 |\n",
            "|    clip_fraction        | 0.056       |\n",
            "|    clip_range           | 0.2         |\n",
            "|    entropy_loss         | -1.09       |\n",
            "|    explained_variance   | 0.0228      |\n",
            "|    learning_rate        | 0.0003      |\n",
            "|    loss                 | 29.1        |\n",
            "|    n_updates            | 10          |\n",
            "|    policy_gradient_loss | -0.00584    |\n",
            "|    value_loss           | 156         |\n",
            "-----------------------------------------\n",
            "-----------------------------------------\n",
            "| rollout/                |             |\n",
            "|    ep_len_mean          | 661         |\n",
            "|    ep_rew_mean          | 732         |\n",
            "| time/                   |             |\n",
            "|    fps                  | 220         |\n",
            "|    iterations           | 3           |\n",
            "|    time_elapsed         | 27          |\n",
            "|    total_timesteps      | 6144        |\n",
            "| train/                  |             |\n",
            "|    approx_kl            | 0.009288711 |\n",
            "|    clip_fraction        | 0.0334      |\n",
            "|    clip_range           | 0.2         |\n",
            "|    entropy_loss         | -1.07       |\n",
            "|    explained_variance   | 0.019       |\n",
            "|    learning_rate        | 0.0003      |\n",
            "|    loss                 | 39.8        |\n",
            "|    n_updates            | 20          |\n",
            "|    policy_gradient_loss | -0.00378    |\n",
            "|    value_loss           | 181         |\n",
            "-----------------------------------------\n",
            "-----------------------------------------\n",
            "| rollout/                |             |\n",
            "|    ep_len_mean          | 661         |\n",
            "|    ep_rew_mean          | 732         |\n",
            "| time/                   |             |\n",
            "|    fps                  | 216         |\n",
            "|    iterations           | 4           |\n",
            "|    time_elapsed         | 37          |\n",
            "|    total_timesteps      | 8192        |\n",
            "| train/                  |             |\n",
            "|    approx_kl            | 0.009825021 |\n",
            "|    clip_fraction        | 0.023       |\n",
            "|    clip_range           | 0.2         |\n",
            "|    entropy_loss         | -1.07       |\n",
            "|    explained_variance   | 0.00518     |\n",
            "|    learning_rate        | 0.0003      |\n",
            "|    loss                 | 49.1        |\n",
            "|    n_updates            | 30          |\n",
            "|    policy_gradient_loss | -0.00248    |\n",
            "|    value_loss           | 161         |\n",
            "-----------------------------------------\n",
            "-----------------------------------------\n",
            "| rollout/                |             |\n",
            "|    ep_len_mean          | 661         |\n",
            "|    ep_rew_mean          | 732         |\n",
            "| time/                   |             |\n",
            "|    fps                  | 216         |\n",
            "|    iterations           | 5           |\n",
            "|    time_elapsed         | 47          |\n",
            "|    total_timesteps      | 10240       |\n",
            "| train/                  |             |\n",
            "|    approx_kl            | 0.009581366 |\n",
            "|    clip_fraction        | 0.036       |\n",
            "|    clip_range           | 0.2         |\n",
            "|    entropy_loss         | -1.07       |\n",
            "|    explained_variance   | 0.00204     |\n",
            "|    learning_rate        | 0.0003      |\n",
            "|    loss                 | 41.6        |\n",
            "|    n_updates            | 40          |\n",
            "|    policy_gradient_loss | -0.00299    |\n",
            "|    value_loss           | 143         |\n",
            "-----------------------------------------\n"
          ]
        },
        {
          "data": {
            "text/plain": [
              "<stable_baselines3.ppo.ppo.PPO at 0x7f18d0491010>"
            ]
          },
          "execution_count": 6,
          "metadata": {},
          "output_type": "execute_result"
        }
      ],
      "source": [
        "model = PPO('MlpPolicy', env, verbose=1, seed=42)\n",
        "model.learn(total_timesteps=10000)"
      ]
    },
    {
      "cell_type": "markdown",
      "metadata": {
        "id": "11VRgN_9Ngu5"
      },
      "source": [
        "# Step 5: Test the pricing model\n",
        "# Note: Simulate pricing adjustments for a few players.\n",
        "# Justification: Demonstrates the model’s ability to adjust costs dynamically."
      ]
    },
    {
      "cell_type": "code",
      "execution_count": 7,
      "metadata": {
        "id": "R6aoPx_RNkc5"
      },
      "outputs": [],
      "source": [
        "obs, _ = env.reset()\n",
        "new_costs = []\n",
        "player_names = []\n",
        "for _ in range(10):\n",
        "    action, _ = model.predict(obs)\n",
        "    current_cost = df.iloc[env.current_player]['player_cost']\n",
        "    if action == 0:\n",
        "        new_cost = current_cost + 0.1\n",
        "    elif action == 1:\n",
        "        new_cost = max(current_cost - 0.1, 0.1)\n",
        "    else:\n",
        "        new_cost = current_cost\n",
        "    new_costs.append(new_cost)\n",
        "    player_names.append(f\"{df.iloc[env.current_player]['first_name']} {df.iloc[env.current_player]['second_name']}\")\n",
        "    obs, reward, done, truncated, _ = env.step(action)\n",
        "    if done:\n",
        "        obs, _ = env.reset()"
      ]
    },
    {
      "cell_type": "markdown",
      "metadata": {
        "id": "16p5zzHkNnkB"
      },
      "source": [
        "# Step 6: Display results\n",
        "# Note: Show original and new costs for sample players.\n",
        "# Justification: Allows evaluation of the model’s pricing decisions."
      ]
    },
    {
      "cell_type": "code",
      "execution_count": 8,
      "metadata": {
        "colab": {
          "base_uri": "https://localhost:8080/"
        },
        "id": "1BU-5jcHNqYB",
        "outputId": "6ee2ca1a-7928-4677-e266-a8ae7564baef"
      },
      "outputs": [
        {
          "name": "stdout",
          "output_type": "stream",
          "text": [
            "                         Player  Original Cost  New Cost\n",
            "0         Fábio Ferreira Vieira            5.4       5.5\n",
            "1     Gabriel Fernando de Jesus            6.8       6.9\n",
            "2  Gabriel dos Santos Magalhães            6.1       6.0\n",
            "3                   Kai Havertz            8.1       8.0\n",
            "4                     Karl Hein            4.0       4.0\n",
            "5                Jurriën Timber            5.5       5.4\n",
            "6       Jorge Luiz Frello Filho            4.9       5.0\n",
            "7                  Jakub Kiwior            4.8       4.8\n",
            "8      Gabriel Martinelli Silva            6.9       6.9\n",
            "9                 Ethan Nwaneri            4.5       4.4\n"
          ]
        }
      ],
      "source": [
        "results = pd.DataFrame({\n",
        "    'Player': player_names[:10],\n",
        "    'Original Cost': df.iloc[:10]['player_cost'],\n",
        "    'New Cost': new_costs\n",
        "})\n",
        "print(results)"
      ]
    },
    {
      "cell_type": "markdown",
      "metadata": {
        "id": "SnmAkG6Fbky9"
      },
      "source": [
        "# Gameweek Difficulty Predictor with Graph Neural Networks\n",
        "\n",
        "Objective: Use a Graph Neural Network (GNN) to predict gameweek difficulty for each player based on team and player interactions.\n",
        "\n",
        "Novelty: Models player-team relationships as a graph, capturing complex dependencies for individualized difficulty predictions."
      ]
    },
    {
      "cell_type": "markdown",
      "metadata": {
        "id": "IF0HzVqpkt6P"
      },
      "source": [
        "# Step 1: Load and preprocess data\n",
        "# Note: Load CSV and select features for GNN.\n",
        "# Justification: Features capture performance and team context; filling NaNs ensures robust processing."
      ]
    },
    {
      "cell_type": "code",
      "execution_count": 12,
      "metadata": {
        "id": "FEqYXrFCkumZ"
      },
      "outputs": [],
      "source": [
        "df = pd.read_csv('fpl_playerstats_2024-25.csv')\n",
        "df = df.fillna(0)\n",
        "features = ['player_form', 'expected_goals', 'team_strength', 'total_points']\n",
        "node_features = df[features].values"
      ]
    },
    {
      "cell_type": "markdown",
      "metadata": {
        "id": "agzgQD3mkxD2"
      },
      "source": [
        "# Step 2: Create graph edges\n",
        "# Note: Connect players from the same team to model team synergy.\n",
        "# Justification: Team-based edges capture collective performance affecting difficulty."
      ]
    },
    {
      "cell_type": "code",
      "execution_count": 13,
      "metadata": {
        "id": "lbUryx1Wk02_"
      },
      "outputs": [],
      "source": [
        "edge_index = []\n",
        "for team in df['team_name'].unique():\n",
        "    team_players = df[df['team_name'] == team].index\n",
        "    for i in team_players:\n",
        "        for j in team_players:\n",
        "            if i != j:\n",
        "                edge_index.append([i, j])\n",
        "edge_index = torch.tensor(edge_index, dtype=torch.long).t().contiguous()"
      ]
    },
    {
      "cell_type": "markdown",
      "metadata": {
        "id": "94DfdC-Wk4CP"
      },
      "source": [
        "# Step 3: Prepare graph data\n",
        "# Note: Create a PyTorch Geometric Data object with node features and edges.\n",
        "# Justification: GNNs require graph-structured data; total_points is a proxy for difficulty."
      ]
    },
    {
      "cell_type": "code",
      "execution_count": 14,
      "metadata": {
        "id": "hNg5yTa_k653"
      },
      "outputs": [],
      "source": [
        "x = torch.tensor(node_features, dtype=torch.float)\n",
        "y = torch.tensor(df['total_points'].values, dtype=torch.float)  # Proxy for difficulty\n",
        "data = Data(x=x, edge_index=edge_index, y=y)"
      ]
    },
    {
      "cell_type": "markdown",
      "metadata": {
        "id": "lVIaZA7ek-Me"
      },
      "source": [
        "# Step 4: Define GNN model\n",
        "# Note: Use a simple Graph Convolutional Network (GCN) for prediction.\n",
        "# Justification: GCNs are effective for node-level tasks like difficulty prediction."
      ]
    },
    {
      "cell_type": "code",
      "execution_count": 17,
      "metadata": {
        "id": "uWdaPUJVlAuh"
      },
      "outputs": [],
      "source": [
        "class GNN(torch.nn.Module):\n",
        "    def __init__(self):\n",
        "        super().__init__()\n",
        "        self.conv1 = GCNConv(len(features), 16)\n",
        "        self.conv2 = GCNConv(16, 1)\n",
        "\n",
        "    def forward(self, data):\n",
        "        x, edge_index = data.x, data.edge_index\n",
        "        x = torch.relu(self.conv1(x, edge_index))\n",
        "        x = self.conv2(x, edge_index)\n",
        "        return x"
      ]
    },
    {
      "cell_type": "markdown",
      "metadata": {
        "id": "azfEYQ7FlIUG"
      },
      "source": [
        "# Step 5: Train GNN\n",
        "# Note: Train the model to predict difficulty (approximated by total_points).\n",
        "# Justification: Supervised learning with MSE loss aligns predictions with performance."
      ]
    },
    {
      "cell_type": "code",
      "execution_count": 18,
      "metadata": {
        "colab": {
          "base_uri": "https://localhost:8080/"
        },
        "id": "ieykMsIHlOIX",
        "outputId": "50f3e232-b1eb-4412-bebe-d08f3746252c"
      },
      "outputs": [
        {
          "name": "stdout",
          "output_type": "stream",
          "text": [
            "Epoch 0, Loss: 103.00628662109375\n",
            "Epoch 10, Loss: 79.97238159179688\n",
            "Epoch 20, Loss: 69.05656433105469\n",
            "Epoch 30, Loss: 68.8751220703125\n",
            "Epoch 40, Loss: 68.40443420410156\n",
            "Epoch 50, Loss: 68.17864990234375\n",
            "Epoch 60, Loss: 68.17106628417969\n",
            "Epoch 70, Loss: 68.10784149169922\n",
            "Epoch 80, Loss: 68.1017074584961\n",
            "Epoch 90, Loss: 68.08328247070312\n"
          ]
        }
      ],
      "source": [
        "model = GNN()\n",
        "optimizer = torch.optim.Adam(model.parameters(), lr=0.01)\n",
        "model.train()\n",
        "for epoch in range(100):\n",
        "    optimizer.zero_grad()\n",
        "    out = model(data)\n",
        "    loss = torch.nn.MSELoss()(out.squeeze(), data.y)\n",
        "    loss.backward()\n",
        "    optimizer.step()\n",
        "    if epoch % 10 == 0:\n",
        "        print(f\"Epoch {epoch}, Loss: {loss.item()}\")"
      ]
    },
    {
      "cell_type": "markdown",
      "metadata": {
        "id": "58krCGErlShO"
      },
      "source": [
        "# Step 6: Predict and display results\n",
        "# Note: Generate difficulty scores and show top players.\n",
        "# Justification: Ranking players by predicted difficulty aids transfer decisions."
      ]
    },
    {
      "cell_type": "code",
      "execution_count": 19,
      "metadata": {
        "colab": {
          "base_uri": "https://localhost:8080/"
        },
        "id": "3oiKemQPlU19",
        "outputId": "addaae98-1945-4fcf-e5e7-dab7b8b46d05"
      },
      "outputs": [
        {
          "name": "stdout",
          "output_type": "stream",
          "text": [
            "    first_name         second_name  difficulty_score\n",
            "377        Ben                Doak          9.401178\n",
            "376      Diogo   Teixeira da Silva          9.401178\n",
            "375     Darwin       Núñez Ribeiro          9.401178\n",
            "374      Bobby               Clark          9.401178\n",
            "373      Conor             Bradley          9.401178\n",
            "372     Stefan  Bajčetić Maquieira          9.401178\n",
            "371      Trent    Alexander-Arnold          9.401178\n",
            "370    Alisson       Ramses Becker          9.401178\n",
            "385   Ibrahima              Konaté          9.401178\n",
            "384   Caoimhin            Kelleher          9.401178\n"
          ]
        }
      ],
      "source": [
        "model.eval()\n",
        "with torch.no_grad():\n",
        "    difficulty_scores = model(data).squeeze().numpy()\n",
        "df['difficulty_score'] = difficulty_scores\n",
        "print(df[['first_name', 'second_name', 'difficulty_score']].sort_values('difficulty_score', ascending=False).head(10))"
      ]
    },
    {
      "cell_type": "markdown",
      "metadata": {
        "id": "4sCIp_o3lanm"
      },
      "source": [
        "# Step 7: Visualize difficulty scores\n",
        "# Note: Plot distribution of difficulty scores.\n",
        "# Justification: Visualization helps identify players with high/low difficulty."
      ]
    },
    {
      "cell_type": "code",
      "execution_count": 20,
      "metadata": {
        "colab": {
          "base_uri": "https://localhost:8080/",
          "height": 472
        },
        "id": "XUgi9WdKlc8G",
        "outputId": "9a5b510d-53c6-4c79-84c3-521ce4f04f90"
      },
      "outputs": [
        {
          "data": {
            "image/png": "[encoded data removed]",
            "text/plain": [
              "<Figure size 640x480 with 1 Axes>"
            ]
          },
          "metadata": {},
          "output_type": "display_data"
        }
      ],
      "source": [
        "plt.hist(difficulty_scores, bins=20)\n",
        "plt.title('Distribution of Gameweek Difficulty Scores')\n",
        "plt.xlabel('Difficulty Score')\n",
        "plt.ylabel('Frequency')\n",
        "plt.show()"
      ]
    },
    {
      "cell_type": "markdown",
      "metadata": {
        "id": "VlbhSBWMnYy9"
      },
      "source": [
        "# Injury Risk Prediction with Time-Series Analysis\n",
        "\n",
        "Objective: Predict player injury risk (based on status) using time-series analysis of gameweek data (gw1_points to gw5_points, minutes, etc.).\n",
        "\n",
        "Novelty: Uses time-series ML to forecast injury risk, addressing a critical FPL manager concern."
      ]
    },
    {
      "cell_type": "code",
      "execution_count": 21,
      "metadata": {
        "id": "GTtV3hAjnawl"
      },
      "outputs": [],
      "source": [
        "import pandas as pd\n",
        "import numpy as np\n",
        "from tensorflow.keras.models import Sequential\n",
        "from tensorflow.keras.layers import LSTM, Dense\n",
        "from sklearn.preprocessing import MinMaxScaler"
      ]
    },
    {
      "cell_type": "markdown",
      "metadata": {
        "id": "kuGf7GTMneX9"
      },
      "source": [
        "# Step 1: Load and preprocess data\n",
        "# Note: Load CSV and create time-series features.\n",
        "# Justification: Time-series data (gameweek points, minutes) captures trends leading to injury."
      ]
    },
    {
      "cell_type": "code",
      "execution_count": 22,
      "metadata": {
        "id": "3s1qmtBrnhjk"
      },
      "outputs": [],
      "source": [
        "df = pd.read_csv('fpl_playerstats_2024-25.csv')\n",
        "df = df.fillna(0)\n",
        "time_series_cols = ['gw1_points', 'gw2_points', 'gw3_points', 'gw4_points', 'gw5_points', 'minutes']\n",
        "status_map = {'Available': 0, 'Injured': 1, 'Doubtful': 1, 'Suspended': 1, 'Unavailable': 1}\n",
        "df['status_binary'] = df['status'].map(status_map)"
      ]
    },
    {
      "cell_type": "markdown",
      "metadata": {
        "id": "drm8aXKynru0"
      },
      "source": [
        "# Step 2: Prepare time-series sequences\n",
        "# Note: Create sequences of gameweek data for each player.\n",
        "# Justification: LSTM requires sequential input; filtering complete sequences ensures data quality."
      ]
    },
    {
      "cell_type": "code",
      "execution_count": 23,
      "metadata": {
        "id": "X6g6LCJKnu00"
      },
      "outputs": [],
      "source": [
        "sequences = []\n",
        "labels = []\n",
        "for _, player_data in df.groupby('id'):\n",
        "    sequence = player_data[time_series_cols].values\n",
        "    label = player_data['status_binary'].iloc[-1]\n",
        "    if sequence.shape[0] == 1 and len(sequence[0]) == len(time_series_cols):\n",
        "        sequences.append(sequence)\n",
        "        labels.append(label)\n",
        "sequences = np.array(sequences)\n",
        "labels = np.array(labels)"
      ]
    },
    {
      "cell_type": "markdown",
      "metadata": {
        "id": "VuBVgLjhnxi8"
      },
      "source": [
        "# Step 3: Normalize sequences\n",
        "# Note: Scale features to [0, 1] for LSTM training.\n",
        "# Justification: Normalization improves LSTM convergence."
      ]
    },
    {
      "cell_type": "code",
      "execution_count": 24,
      "metadata": {
        "id": "RGWJ7bnzn1kc"
      },
      "outputs": [],
      "source": [
        "scaler = MinMaxScaler()\n",
        "sequences = scaler.fit_transform(sequences.reshape(-1, sequences.shape[2])).reshape(sequences.shape)"
      ]
    },
    {
      "cell_type": "markdown",
      "metadata": {
        "id": "2YCGdVJBn4vc"
      },
      "source": [
        "# Step 4: Build LSTM model\n",
        "# Note: Create a simple LSTM model for binary classification.\n",
        "# Justification: LSTM is suited for sequential data like gameweek trends."
      ]
    },
    {
      "cell_type": "code",
      "execution_count": 25,
      "metadata": {
        "id": "LsQos9Y6n78T"
      },
      "outputs": [],
      "source": [
        "model = Sequential([\n",
        "    LSTM(50, input_shape=(sequences.shape[1], sequences.shape[2]), return_sequences=False),\n",
        "    Dense(1, activation='sigmoid')\n",
        "])\n",
        "model.compile(optimizer='adam', loss='binary_crossentropy', metrics=['accuracy'])"
      ]
    },
    {
      "cell_type": "markdown",
      "metadata": {
        "id": "9KoCZCbQn-nl"
      },
      "source": [
        "# Step 5: Train model\n",
        "# Note: Train on sequences to predict injury risk.\n",
        "# Justification: Binary classification aligns with status prediction (0=Available, 1=Risk)."
      ]
    },
    {
      "cell_type": "code",
      "execution_count": 26,
      "metadata": {
        "colab": {
          "base_uri": "https://localhost:8080/"
        },
        "id": "gHKXSHSCoBRE",
        "outputId": "30fac93f-eb72-45a7-c7f2-dc7863e84a96"
      },
      "outputs": [
        {
          "name": "stdout",
          "output_type": "stream",
          "text": [
            "Epoch 1/10\n",
            "\u001b[1m17/17\u001b[0m \u001b[32m━━━━━━━━━━━━━━━━━━━━\u001b[0m\u001b[37m\u001b[0m \u001b[1m6s\u001b[0m 54ms/step - accuracy: 0.7188 - loss: 0.6786 - val_accuracy: 0.7594 - val_loss: 0.6636\n",
            "Epoch 2/10\n",
            "\u001b[1m17/17\u001b[0m \u001b[32m━━━━━━━━━━━━━━━━━━━━\u001b[0m\u001b[37m\u001b[0m \u001b[1m0s\u001b[0m 7ms/step - accuracy: 0.6940 - loss: 0.6522 - val_accuracy: 0.7594 - val_loss: 0.6386\n",
            "Epoch 3/10\n",
            "\u001b[1m17/17\u001b[0m \u001b[32m━━━━━━━━━━━━━━━━━━━━\u001b[0m\u001b[37m\u001b[0m \u001b[1m0s\u001b[0m 9ms/step - accuracy: 0.7054 - loss: 0.6217 - val_accuracy: 0.7594 - val_loss: 0.6130\n",
            "Epoch 4/10\n",
            "\u001b[1m17/17\u001b[0m \u001b[32m━━━━━━━━━━━━━━━━━━━━\u001b[0m\u001b[37m\u001b[0m \u001b[1m0s\u001b[0m 12ms/step - accuracy: 0.7218 - loss: 0.5899 - val_accuracy: 0.7594 - val_loss: 0.5864\n",
            "Epoch 5/10\n",
            "\u001b[1m17/17\u001b[0m \u001b[32m━━━━━━━━━━━━━━━━━━━━\u001b[0m\u001b[37m\u001b[0m \u001b[1m0s\u001b[0m 23ms/step - accuracy: 0.7218 - loss: 0.5622 - val_accuracy: 0.7594 - val_loss: 0.5641\n",
            "Epoch 6/10\n",
            "\u001b[1m17/17\u001b[0m \u001b[32m━━━━━━━━━━━━━━━━━━━━\u001b[0m\u001b[37m\u001b[0m \u001b[1m0s\u001b[0m 12ms/step - accuracy: 0.7180 - loss: 0.5414 - val_accuracy: 0.7594 - val_loss: 0.5487\n",
            "Epoch 7/10\n",
            "\u001b[1m17/17\u001b[0m \u001b[32m━━━━━━━━━━━━━━━━━━━━\u001b[0m\u001b[37m\u001b[0m \u001b[1m0s\u001b[0m 13ms/step - accuracy: 0.7260 - loss: 0.5242 - val_accuracy: 0.7594 - val_loss: 0.5362\n",
            "Epoch 8/10\n",
            "\u001b[1m17/17\u001b[0m \u001b[32m━━━━━━━━━━━━━━━━━━━━\u001b[0m\u001b[37m\u001b[0m \u001b[1m0s\u001b[0m 17ms/step - accuracy: 0.6961 - loss: 0.5407 - val_accuracy: 0.7594 - val_loss: 0.5289\n",
            "Epoch 9/10\n",
            "\u001b[1m17/17\u001b[0m \u001b[32m━━━━━━━━━━━━━━━━━━━━\u001b[0m\u001b[37m\u001b[0m \u001b[1m1s\u001b[0m 13ms/step - accuracy: 0.7263 - loss: 0.5056 - val_accuracy: 0.7594 - val_loss: 0.5225\n",
            "Epoch 10/10\n",
            "\u001b[1m17/17\u001b[0m \u001b[32m━━━━━━━━━━━━━━━━━━━━\u001b[0m\u001b[37m\u001b[0m \u001b[1m0s\u001b[0m 13ms/step - accuracy: 0.6893 - loss: 0.5337 - val_accuracy: 0.7594 - val_loss: 0.5205\n"
          ]
        },
        {
          "data": {
            "text/plain": [
              "<keras.src.callbacks.history.History at 0x7f18be985510>"
            ]
          },
          "execution_count": 26,
          "metadata": {},
          "output_type": "execute_result"
        }
      ],
      "source": [
        "model.fit(sequences, labels, epochs=10, batch_size=32, validation_split=0.2, verbose=1)"
      ]
    },
    {
      "cell_type": "markdown",
      "metadata": {
        "id": "PgazYDi0oEdk"
      },
      "source": [
        "# Step 6: Predict injury risk\n",
        "# Note: Generate risk probabilities for all players.\n",
        "# Justification: Probabilities help rank players by injury risk."
      ]
    },
    {
      "cell_type": "code",
      "execution_count": 27,
      "metadata": {
        "colab": {
          "base_uri": "https://localhost:8080/"
        },
        "id": "f4RGUHn0oIDs",
        "outputId": "b52f1143-1ac8-4d31-fd96-136bccc477ca"
      },
      "outputs": [
        {
          "name": "stdout",
          "output_type": "stream",
          "text": [
            "\u001b[1m21/21\u001b[0m \u001b[32m━━━━━━━━━━━━━━━━━━━━\u001b[0m\u001b[37m\u001b[0m \u001b[1m1s\u001b[0m 38ms/step\n"
          ]
        }
      ],
      "source": [
        "predictions = model.predict(sequences)\n",
        "df['injury_risk'] = pd.Series(predictions.flatten(), index=df.index[:len(predictions)])"
      ]
    },
    {
      "cell_type": "markdown",
      "metadata": {
        "id": "EoL46sxqoLRM"
      },
      "source": [
        "# Step 7: Display results\n",
        "# Note: Show top players by injury risk.\n",
        "# Justification: Ranking helps FPL managers avoid risky players."
      ]
    },
    {
      "cell_type": "code",
      "execution_count": 29,
      "metadata": {
        "colab": {
          "base_uri": "https://localhost:8080/"
        },
        "id": "ukif_ft-oOrM",
        "outputId": "e1ac1c66-e3f8-4c9b-9a2d-3b3febeb9296"
      },
      "outputs": [
        {
          "name": "stdout",
          "output_type": "stream",
          "text": [
            "          first_name               second_name  injury_risk\n",
            "637           Nathan                    Fraser     0.352553\n",
            "636            Fábio                     Silva     0.352553\n",
            "633            Craig                    Dawson     0.352553\n",
            "632          Matheus  Santos Carneiro Da Cunha     0.352553\n",
            "628  Francisco Jorge            Tomás Oliveira     0.352553\n",
            "625         Boubacar                    Traoré     0.352553\n",
            "29             Ayden                    Heaven     0.352553\n",
            "21          Norberto               Murara Neto     0.352553\n",
            "20         Oleksandr                 Zinchenko     0.352553\n",
            "623              Sam                 Johnstone     0.352553\n",
            "615             Kurt                     Zouma     0.352553\n",
            "614            Tomáš                    Souček     0.352553\n",
            "613            Nayef                    Aguerd     0.352553\n",
            "608              Max                    Kilman     0.352553\n",
            "605           Łukasz                 Fabiański     0.352553\n",
            "604          Emerson       Palmieri dos Santos     0.352553\n",
            "603           George                    Earthy     0.352553\n",
            "600           Jarrod                     Bowen     0.352553\n",
            "598          Michail                   Antonio     0.352553\n",
            "594            Mikey                     Moore     0.352553\n",
            "45          Boubacar                    Kamara     0.352553\n",
            "42               Joe                     Gauci     0.352553\n",
            "41              Jhon                     Durán     0.352553\n",
            "40             Lewis                    Dobbin     0.352553\n",
            "39             Lucas                     Digne     0.352553\n",
            "38      Diego Carlos              Santos Silva     0.352553\n",
            "36           Leander                Dendoncker     0.352553\n",
            "33              Enzo               Barrenechea     0.352553\n",
            "32              Ross                   Barkley     0.352553\n",
            "585              Son                 Heung-min     0.352553\n"
          ]
        }
      ],
      "source": [
        "print(df[['first_name', 'second_name', 'injury_risk']].sort_values('injury_risk', ascending=False).head(30))"
      ]
    },
    {
      "cell_type": "markdown",
      "metadata": {
        "id": "c21MOkpYou4z"
      },
      "source": [
        "# FPL Manager Behavior Simulation with Generative AI\n",
        "\n",
        "Objective: Use a Variational Autoencoder (VAE) to simulate FPL manager team selections, capturing realistic player combinations.\n",
        "\n",
        "Novelty: Simulates manager behavior to understand selection patterns, offering insights into community trends."
      ]
    },
    {
      "cell_type": "code",
      "execution_count": 34,
      "metadata": {
        "colab": {
          "base_uri": "https://localhost:8080/"
        },
        "collapsed": true,
        "id": "90zTMa9hvw1f",
        "outputId": "79b9ffe3-2297-4634-f87e-e1d49439ebed"
      },
      "outputs": [
        {
          "name": "stdout",
          "output_type": "stream",
          "text": [
            "Requirement already satisfied: tensorflow in /usr/local/lib/python3.11/dist-packages (2.18.0)\n",
            "Requirement already satisfied: pandas in /usr/local/lib/python3.11/dist-packages (2.2.2)\n",
            "Requirement already satisfied: numpy in /usr/local/lib/python3.11/dist-packages (2.0.2)\n",
            "Requirement already satisfied: absl-py>=1.0.0 in /usr/local/lib/python3.11/dist-packages (from tensorflow) (1.4.0)\n",
            "Requirement already satisfied: astunparse>=1.6.0 in /usr/local/lib/python3.11/dist-packages (from tensorflow) (1.6.3)\n",
            "Requirement already satisfied: flatbuffers>=24.3.25 in /usr/local/lib/python3.11/dist-packages (from tensorflow) (25.2.10)\n",
            "Requirement already satisfied: gast!=0.5.0,!=0.5.1,!=0.5.2,>=0.2.1 in /usr/local/lib/python3.11/dist-packages (from tensorflow) (0.6.0)\n",
            "Requirement already satisfied: google-pasta>=0.1.1 in /usr/local/lib/python3.11/dist-packages (from tensorflow) (0.2.0)\n",
            "Requirement already satisfied: libclang>=13.0.0 in /usr/local/lib/python3.11/dist-packages (from tensorflow) (18.1.1)\n",
            "Requirement already satisfied: opt-einsum>=2.3.2 in /usr/local/lib/python3.11/dist-packages (from tensorflow) (3.4.0)\n",
            "Requirement already satisfied: packaging in /usr/local/lib/python3.11/dist-packages (from tensorflow) (24.2)\n",
            "Requirement already satisfied: protobuf!=4.21.0,!=4.21.1,!=4.21.2,!=4.21.3,!=4.21.4,!=4.21.5,<6.0.0dev,>=3.20.3 in /usr/local/lib/python3.11/dist-packages (from tensorflow) (5.29.5)\n",
            "Requirement already satisfied: requests<3,>=2.21.0 in /usr/local/lib/python3.11/dist-packages (from tensorflow) (2.32.3)\n",
            "Requirement already satisfied: setuptools in /usr/local/lib/python3.11/dist-packages (from tensorflow) (75.2.0)\n",
            "Requirement already satisfied: six>=1.12.0 in /usr/local/lib/python3.11/dist-packages (from tensorflow) (1.17.0)\n",
            "Requirement already satisfied: termcolor>=1.1.0 in /usr/local/lib/python3.11/dist-packages (from tensorflow) (3.1.0)\n",
            "Requirement already satisfied: typing-extensions>=3.6.6 in /usr/local/lib/python3.11/dist-packages (from tensorflow) (4.14.0)\n",
            "Requirement already satisfied: wrapt>=1.11.0 in /usr/local/lib/python3.11/dist-packages (from tensorflow) (1.17.2)\n",
            "Requirement already satisfied: grpcio<2.0,>=1.24.3 in /usr/local/lib/python3.11/dist-packages (from tensorflow) (1.73.1)\n",
            "Requirement already satisfied: tensorboard<2.19,>=2.18 in /usr/local/lib/python3.11/dist-packages (from tensorflow) (2.18.0)\n",
            "Requirement already satisfied: keras>=3.5.0 in /usr/local/lib/python3.11/dist-packages (from tensorflow) (3.8.0)\n",
            "Requirement already satisfied: h5py>=3.11.0 in /usr/local/lib/python3.11/dist-packages (from tensorflow) (3.14.0)\n",
            "Requirement already satisfied: ml-dtypes<0.5.0,>=0.4.0 in /usr/local/lib/python3.11/dist-packages (from tensorflow) (0.4.1)\n",
            "Requirement already satisfied: tensorflow-io-gcs-filesystem>=0.23.1 in /usr/local/lib/python3.11/dist-packages (from tensorflow) (0.37.1)\n",
            "Requirement already satisfied: python-dateutil>=2.8.2 in /usr/local/lib/python3.11/dist-packages (from pandas) (2.9.0.post0)\n",
            "Requirement already satisfied: pytz>=2020.1 in /usr/local/lib/python3.11/dist-packages (from pandas) (2025.2)\n",
            "Requirement already satisfied: tzdata>=2022.7 in /usr/local/lib/python3.11/dist-packages (from pandas) (2025.2)\n",
            "Requirement already satisfied: wheel<1.0,>=0.23.0 in /usr/local/lib/python3.11/dist-packages (from astunparse>=1.6.0->tensorflow) (0.45.1)\n",
            "Requirement already satisfied: rich in /usr/local/lib/python3.11/dist-packages (from keras>=3.5.0->tensorflow) (13.9.4)\n",
            "Requirement already satisfied: namex in /usr/local/lib/python3.11/dist-packages (from keras>=3.5.0->tensorflow) (0.1.0)\n",
            "Requirement already satisfied: optree in /usr/local/lib/python3.11/dist-packages (from keras>=3.5.0->tensorflow) (0.16.0)\n",
            "Requirement already satisfied: charset-normalizer<4,>=2 in /usr/local/lib/python3.11/dist-packages (from requests<3,>=2.21.0->tensorflow) (3.4.2)\n",
            "Requirement already satisfied: idna<4,>=2.5 in /usr/local/lib/python3.11/dist-packages (from requests<3,>=2.21.0->tensorflow) (3.10)\n",
            "Requirement already satisfied: urllib3<3,>=1.21.1 in /usr/local/lib/python3.11/dist-packages (from requests<3,>=2.21.0->tensorflow) (2.4.0)\n",
            "Requirement already satisfied: certifi>=2017.4.17 in /usr/local/lib/python3.11/dist-packages (from requests<3,>=2.21.0->tensorflow) (2025.6.15)\n",
            "Requirement already satisfied: markdown>=2.6.8 in /usr/local/lib/python3.11/dist-packages (from tensorboard<2.19,>=2.18->tensorflow) (3.8.2)\n",
            "Requirement already satisfied: tensorboard-data-server<0.8.0,>=0.7.0 in /usr/local/lib/python3.11/dist-packages (from tensorboard<2.19,>=2.18->tensorflow) (0.7.2)\n",
            "Requirement already satisfied: werkzeug>=1.0.1 in /usr/local/lib/python3.11/dist-packages (from tensorboard<2.19,>=2.18->tensorflow) (3.1.3)\n",
            "Requirement already satisfied: MarkupSafe>=2.1.1 in /usr/local/lib/python3.11/dist-packages (from werkzeug>=1.0.1->tensorboard<2.19,>=2.18->tensorflow) (3.0.2)\n",
            "Requirement already satisfied: markdown-it-py>=2.2.0 in /usr/local/lib/python3.11/dist-packages (from rich->keras>=3.5.0->tensorflow) (3.0.0)\n",
            "Requirement already satisfied: pygments<3.0.0,>=2.13.0 in /usr/local/lib/python3.11/dist-packages (from rich->keras>=3.5.0->tensorflow) (2.19.2)\n",
            "Requirement already satisfied: mdurl~=0.1 in /usr/local/lib/python3.11/dist-packages (from markdown-it-py>=2.2.0->rich->keras>=3.5.0->tensorflow) (0.1.2)\n"
          ]
        }
      ],
      "source": [
        "# Step 0: Install required libraries\n",
        "# Note: Install necessary libraries for data processing, ML, and visualization in Colab.\n",
        "# Justification: Ensures all dependencies are available; tensorflow for VAE, pandas for data handling.\n",
        "!pip install tensorflow pandas numpy"
      ]
    },
    {
      "cell_type": "code",
      "execution_count": 36,
      "metadata": {
        "colab": {
          "base_uri": "https://localhost:8080/"
        },
        "id": "v7JuFQIsowm-",
        "outputId": "9ca086ac-5e90-4f6c-9001-d1f54a005d02"
      },
      "outputs": [
        {
          "name": "stdout",
          "output_type": "stream",
          "text": [
            "Epoch 1/50\n",
            "\u001b[1m25/25\u001b[0m \u001b[32m━━━━━━━━━━━━━━━━━━━━\u001b[0m\u001b[37m\u001b[0m \u001b[1m5s\u001b[0m 19ms/step - loss: 0.6265 - val_loss: 0.3518\n",
            "Epoch 2/50\n",
            "\u001b[1m25/25\u001b[0m \u001b[32m━━━━━━━━━━━━━━━━━━━━\u001b[0m\u001b[37m\u001b[0m \u001b[1m0s\u001b[0m 10ms/step - loss: 0.2457 - val_loss: 0.1297\n",
            "Epoch 3/50\n",
            "\u001b[1m25/25\u001b[0m \u001b[32m━━━━━━━━━━━━━━━━━━━━\u001b[0m\u001b[37m\u001b[0m \u001b[1m0s\u001b[0m 9ms/step - loss: 0.1252 - val_loss: 0.1181\n",
            "Epoch 4/50\n",
            "\u001b[1m25/25\u001b[0m \u001b[32m━━━━━━━━━━━━━━━━━━━━\u001b[0m\u001b[37m\u001b[0m \u001b[1m0s\u001b[0m 9ms/step - loss: 0.1153 - val_loss: 0.1128\n",
            "Epoch 5/50\n",
            "\u001b[1m25/25\u001b[0m \u001b[32m━━━━━━━━━━━━━━━━━━━━\u001b[0m\u001b[37m\u001b[0m \u001b[1m0s\u001b[0m 8ms/step - loss: 0.1114 - val_loss: 0.1121\n",
            "Epoch 6/50\n",
            "\u001b[1m25/25\u001b[0m \u001b[32m━━━━━━━━━━━━━━━━━━━━\u001b[0m\u001b[37m\u001b[0m \u001b[1m0s\u001b[0m 8ms/step - loss: 0.1101 - val_loss: 0.1104\n",
            "Epoch 7/50\n",
            "\u001b[1m25/25\u001b[0m \u001b[32m━━━━━━━━━━━━━━━━━━━━\u001b[0m\u001b[37m\u001b[0m \u001b[1m0s\u001b[0m 9ms/step - loss: 0.1088 - val_loss: 0.1104\n",
            "Epoch 8/50\n",
            "\u001b[1m25/25\u001b[0m \u001b[32m━━━━━━━━━━━━━━━━━━━━\u001b[0m\u001b[37m\u001b[0m \u001b[1m0s\u001b[0m 12ms/step - loss: 0.1083 - val_loss: 0.1095\n",
            "Epoch 9/50\n",
            "\u001b[1m25/25\u001b[0m \u001b[32m━━━━━━━━━━━━━━━━━━━━\u001b[0m\u001b[37m\u001b[0m \u001b[1m1s\u001b[0m 9ms/step - loss: 0.1079 - val_loss: 0.1089\n",
            "Epoch 10/50\n",
            "\u001b[1m25/25\u001b[0m \u001b[32m━━━━━━━━━━━━━━━━━━━━\u001b[0m\u001b[37m\u001b[0m \u001b[1m0s\u001b[0m 11ms/step - loss: 0.1074 - val_loss: 0.1086\n",
            "Epoch 11/50\n",
            "\u001b[1m25/25\u001b[0m \u001b[32m━━━━━━━━━━━━━━━━━━━━\u001b[0m\u001b[37m\u001b[0m \u001b[1m1s\u001b[0m 8ms/step - loss: 0.1072 - val_loss: 0.1083\n",
            "Epoch 12/50\n",
            "\u001b[1m25/25\u001b[0m \u001b[32m━━━━━━━━━━━━━━━━━━━━\u001b[0m\u001b[37m\u001b[0m \u001b[1m0s\u001b[0m 9ms/step - loss: 0.1070 - val_loss: 0.1083\n",
            "Epoch 13/50\n",
            "\u001b[1m25/25\u001b[0m \u001b[32m━━━━━━━━━━━━━━━━━━━━\u001b[0m\u001b[37m\u001b[0m \u001b[1m0s\u001b[0m 12ms/step - loss: 0.1068 - val_loss: 0.1082\n",
            "Epoch 14/50\n",
            "\u001b[1m25/25\u001b[0m \u001b[32m━━━━━━━━━━━━━━━━━━━━\u001b[0m\u001b[37m\u001b[0m \u001b[1m0s\u001b[0m 10ms/step - loss: 0.1066 - val_loss: 0.1079\n",
            "Epoch 15/50\n",
            "\u001b[1m25/25\u001b[0m \u001b[32m━━━━━━━━━━━━━━━━━━━━\u001b[0m\u001b[37m\u001b[0m \u001b[1m0s\u001b[0m 8ms/step - loss: 0.1065 - val_loss: 0.1077\n",
            "Epoch 16/50\n",
            "\u001b[1m25/25\u001b[0m \u001b[32m━━━━━━━━━━━━━━━━━━━━\u001b[0m\u001b[37m\u001b[0m \u001b[1m0s\u001b[0m 13ms/step - loss: 0.1063 - val_loss: 0.1077\n",
            "Epoch 17/50\n",
            "\u001b[1m25/25\u001b[0m \u001b[32m━━━━━━━━━━━━━━━━━━━━\u001b[0m\u001b[37m\u001b[0m \u001b[1m0s\u001b[0m 9ms/step - loss: 0.1063 - val_loss: 0.1076\n",
            "Epoch 18/50\n",
            "\u001b[1m25/25\u001b[0m \u001b[32m━━━━━━━━━━━━━━━━━━━━\u001b[0m\u001b[37m\u001b[0m \u001b[1m0s\u001b[0m 10ms/step - loss: 0.1062 - val_loss: 0.1076\n",
            "Epoch 19/50\n",
            "\u001b[1m25/25\u001b[0m \u001b[32m━━━━━━━━━━━━━━━━━━━━\u001b[0m\u001b[37m\u001b[0m \u001b[1m0s\u001b[0m 9ms/step - loss: 0.1060 - val_loss: 0.1074\n",
            "Epoch 20/50\n",
            "\u001b[1m25/25\u001b[0m \u001b[32m━━━━━━━━━━━━━━━━━━━━\u001b[0m\u001b[37m\u001b[0m \u001b[1m0s\u001b[0m 8ms/step - loss: 0.1057 - val_loss: 0.1073\n",
            "Epoch 21/50\n",
            "\u001b[1m25/25\u001b[0m \u001b[32m━━━━━━━━━━━━━━━━━━━━\u001b[0m\u001b[37m\u001b[0m \u001b[1m0s\u001b[0m 9ms/step - loss: 0.1057 - val_loss: 0.1071\n",
            "Epoch 22/50\n",
            "\u001b[1m25/25\u001b[0m \u001b[32m━━━━━━━━━━━━━━━━━━━━\u001b[0m\u001b[37m\u001b[0m \u001b[1m0s\u001b[0m 9ms/step - loss: 0.1055 - val_loss: 0.1070\n",
            "Epoch 23/50\n",
            "\u001b[1m25/25\u001b[0m \u001b[32m━━━━━━━━━━━━━━━━━━━━\u001b[0m\u001b[37m\u001b[0m \u001b[1m0s\u001b[0m 12ms/step - loss: 0.1052 - val_loss: 0.1069\n",
            "Epoch 24/50\n",
            "\u001b[1m25/25\u001b[0m \u001b[32m━━━━━━━━━━━━━━━━━━━━\u001b[0m\u001b[37m\u001b[0m \u001b[1m0s\u001b[0m 9ms/step - loss: 0.1048 - val_loss: 0.1068\n",
            "Epoch 25/50\n",
            "\u001b[1m25/25\u001b[0m \u001b[32m━━━━━━━━━━━━━━━━━━━━\u001b[0m\u001b[37m\u001b[0m \u001b[1m0s\u001b[0m 8ms/step - loss: 0.1044 - val_loss: 0.1066\n",
            "Epoch 26/50\n",
            "\u001b[1m25/25\u001b[0m \u001b[32m━━━━━━━━━━━━━━━━━━━━\u001b[0m\u001b[37m\u001b[0m \u001b[1m0s\u001b[0m 9ms/step - loss: 0.1038 - val_loss: 0.1063\n",
            "Epoch 27/50\n",
            "\u001b[1m25/25\u001b[0m \u001b[32m━━━━━━━━━━━━━━━━━━━━\u001b[0m\u001b[37m\u001b[0m \u001b[1m0s\u001b[0m 13ms/step - loss: 0.1033 - val_loss: 0.1058\n",
            "Epoch 28/50\n",
            "\u001b[1m25/25\u001b[0m \u001b[32m━━━━━━━━━━━━━━━━━━━━\u001b[0m\u001b[37m\u001b[0m \u001b[1m1s\u001b[0m 9ms/step - loss: 0.1026 - val_loss: 0.1054\n",
            "Epoch 29/50\n",
            "\u001b[1m25/25\u001b[0m \u001b[32m━━━━━━━━━━━━━━━━━━━━\u001b[0m\u001b[37m\u001b[0m \u001b[1m0s\u001b[0m 18ms/step - loss: 0.1014 - val_loss: 0.1049\n",
            "Epoch 30/50\n",
            "\u001b[1m25/25\u001b[0m \u001b[32m━━━━━━━━━━━━━━━━━━━━\u001b[0m\u001b[37m\u001b[0m \u001b[1m1s\u001b[0m 14ms/step - loss: 0.1005 - val_loss: 0.1043\n",
            "Epoch 31/50\n",
            "\u001b[1m25/25\u001b[0m \u001b[32m━━━━━━━━━━━━━━━━━━━━\u001b[0m\u001b[37m\u001b[0m \u001b[1m1s\u001b[0m 18ms/step - loss: 0.0991 - val_loss: 0.1038\n",
            "Epoch 32/50\n",
            "\u001b[1m25/25\u001b[0m \u001b[32m━━━━━━━━━━━━━━━━━━━━\u001b[0m\u001b[37m\u001b[0m \u001b[1m1s\u001b[0m 13ms/step - loss: 0.0978 - val_loss: 0.1031\n",
            "Epoch 33/50\n",
            "\u001b[1m25/25\u001b[0m \u001b[32m━━━━━━━━━━━━━━━━━━━━\u001b[0m\u001b[37m\u001b[0m \u001b[1m0s\u001b[0m 14ms/step - loss: 0.0961 - val_loss: 0.1023\n",
            "Epoch 34/50\n",
            "\u001b[1m25/25\u001b[0m \u001b[32m━━━━━━━━━━━━━━━━━━━━\u001b[0m\u001b[37m\u001b[0m \u001b[1m0s\u001b[0m 8ms/step - loss: 0.0949 - val_loss: 0.1016\n",
            "Epoch 35/50\n",
            "\u001b[1m25/25\u001b[0m \u001b[32m━━━━━━━━━━━━━━━━━━━━\u001b[0m\u001b[37m\u001b[0m \u001b[1m0s\u001b[0m 13ms/step - loss: 0.0929 - val_loss: 0.1011\n",
            "Epoch 36/50\n",
            "\u001b[1m25/25\u001b[0m \u001b[32m━━━━━━━━━━━━━━━━━━━━\u001b[0m\u001b[37m\u001b[0m \u001b[1m1s\u001b[0m 9ms/step - loss: 0.0913 - val_loss: 0.1004\n",
            "Epoch 37/50\n",
            "\u001b[1m25/25\u001b[0m \u001b[32m━━━━━━━━━━━━━━━━━━━━\u001b[0m\u001b[37m\u001b[0m \u001b[1m0s\u001b[0m 11ms/step - loss: 0.0903 - val_loss: 0.1000\n",
            "Epoch 38/50\n",
            "\u001b[1m25/25\u001b[0m \u001b[32m━━━━━━━━━━━━━━━━━━━━\u001b[0m\u001b[37m\u001b[0m \u001b[1m0s\u001b[0m 9ms/step - loss: 0.0887 - val_loss: 0.0997\n",
            "Epoch 39/50\n",
            "\u001b[1m25/25\u001b[0m \u001b[32m━━━━━━━━━━━━━━━━━━━━\u001b[0m\u001b[37m\u001b[0m \u001b[1m0s\u001b[0m 8ms/step - loss: 0.0873 - val_loss: 0.0992\n",
            "Epoch 40/50\n",
            "\u001b[1m25/25\u001b[0m \u001b[32m━━━━━━━━━━━━━━━━━━━━\u001b[0m\u001b[37m\u001b[0m \u001b[1m0s\u001b[0m 8ms/step - loss: 0.0867 - val_loss: 0.0991\n",
            "Epoch 41/50\n",
            "\u001b[1m25/25\u001b[0m \u001b[32m━━━━━━━━━━━━━━━━━━━━\u001b[0m\u001b[37m\u001b[0m \u001b[1m0s\u001b[0m 13ms/step - loss: 0.0846 - val_loss: 0.0990\n",
            "Epoch 42/50\n",
            "\u001b[1m25/25\u001b[0m \u001b[32m━━━━━━━━━━━━━━━━━━━━\u001b[0m\u001b[37m\u001b[0m \u001b[1m0s\u001b[0m 8ms/step - loss: 0.0840 - val_loss: 0.0990\n",
            "Epoch 43/50\n",
            "\u001b[1m25/25\u001b[0m \u001b[32m━━━━━━━━━━━━━━━━━━━━\u001b[0m\u001b[37m\u001b[0m \u001b[1m0s\u001b[0m 10ms/step - loss: 0.0832 - val_loss: 0.0990\n",
            "Epoch 44/50\n",
            "\u001b[1m25/25\u001b[0m \u001b[32m━━━━━━━━━━━━━━━━━━━━\u001b[0m\u001b[37m\u001b[0m \u001b[1m0s\u001b[0m 10ms/step - loss: 0.0826 - val_loss: 0.0990\n",
            "Epoch 45/50\n",
            "\u001b[1m25/25\u001b[0m \u001b[32m━━━━━━━━━━━━━━━━━━━━\u001b[0m\u001b[37m\u001b[0m \u001b[1m0s\u001b[0m 12ms/step - loss: 0.0817 - val_loss: 0.0991\n",
            "Epoch 46/50\n",
            "\u001b[1m25/25\u001b[0m \u001b[32m━━━━━━━━━━━━━━━━━━━━\u001b[0m\u001b[37m\u001b[0m \u001b[1m0s\u001b[0m 8ms/step - loss: 0.0807 - val_loss: 0.0993\n",
            "Epoch 47/50\n",
            "\u001b[1m25/25\u001b[0m \u001b[32m━━━━━━━━━━━━━━━━━━━━\u001b[0m\u001b[37m\u001b[0m \u001b[1m0s\u001b[0m 8ms/step - loss: 0.0801 - val_loss: 0.0994\n",
            "Epoch 48/50\n",
            "\u001b[1m25/25\u001b[0m \u001b[32m━━━━━━━━━━━━━━━━━━━━\u001b[0m\u001b[37m\u001b[0m \u001b[1m0s\u001b[0m 10ms/step - loss: 0.0790 - val_loss: 0.0996\n",
            "Epoch 49/50\n",
            "\u001b[1m25/25\u001b[0m \u001b[32m━━━━━━━━━━━━━━━━━━━━\u001b[0m\u001b[37m\u001b[0m \u001b[1m0s\u001b[0m 10ms/step - loss: 0.0786 - val_loss: 0.0998\n",
            "Epoch 50/50\n",
            "\u001b[1m25/25\u001b[0m \u001b[32m━━━━━━━━━━━━━━━━━━━━\u001b[0m\u001b[37m\u001b[0m \u001b[1m0s\u001b[0m 8ms/step - loss: 0.0781 - val_loss: 0.1000\n",
            "\u001b[1m32/32\u001b[0m \u001b[32m━━━━━━━━━━━━━━━━━━━━\u001b[0m\u001b[37m\u001b[0m \u001b[1m0s\u001b[0m 5ms/step\n",
            "\n",
            "4-4-2 Starting 11:\n",
            "    first_name       second_name player_position  player_cost  total_points\n",
            "430      Altay          Bayindir             GKP          4.4           0.0\n",
            "184       Marc  Cucurella Saseta             DEF          5.0          14.0\n",
            "55         Pau            Torres             DEF          4.5           7.0\n",
            "537     Ronnie           Edwards             DEF          4.0           0.0\n",
            "453   Noussair          Mazraoui             DEF          4.6          25.0\n",
            "25       Mikel            Merino             MID          6.0           0.0\n",
            "293   Harrison              Reed             MID          4.9           4.0\n",
            "557        Ben     Brereton Díaz             MID          5.3           8.0\n",
            "379       Endo            Wataru             MID          4.8           1.0\n",
            "312       Liam             Delap             FWD          5.5          13.0\n",
            "593       Will         Lankshear             FWD          4.5           0.0\n",
            "\n",
            "4-4-2 Substitutes:\n",
            "    first_name  second_name player_position  player_cost  total_points\n",
            "571     Fraser      Forster             GKP          4.4           0.0\n",
            "219      Chadi  Riad Dnanou             DEF          4.4           1.0\n",
            "355    Wilfred        Ndidi             MID          5.0          19.0\n",
            "344     Patson         Daka             FWD          4.9           0.0\n",
            "\n",
            "4-4-2 Total Team Cost: 72.2\n",
            "\n",
            "4-3-3 Starting 11:\n",
            "    first_name       second_name player_position  player_cost  total_points\n",
            "430      Altay          Bayindir             GKP          4.4           0.0\n",
            "184       Marc  Cucurella Saseta             DEF          5.0          14.0\n",
            "55         Pau            Torres             DEF          4.5           7.0\n",
            "537     Ronnie           Edwards             DEF          4.0           0.0\n",
            "453   Noussair          Mazraoui             DEF          4.6          25.0\n",
            "25       Mikel            Merino             MID          6.0           0.0\n",
            "293   Harrison              Reed             MID          4.9           4.0\n",
            "557        Ben     Brereton Díaz             MID          5.3           8.0\n",
            "312       Liam             Delap             FWD          5.5          13.0\n",
            "593       Will         Lankshear             FWD          4.5           0.0\n",
            "344     Patson              Daka             FWD          4.9           0.0\n",
            "\n",
            "4-3-3 Substitutes:\n",
            "    first_name  second_name player_position  player_cost  total_points\n",
            "571     Fraser      Forster             GKP          4.4           0.0\n",
            "219      Chadi  Riad Dnanou             DEF          4.4           1.0\n",
            "355    Wilfred        Ndidi             MID          5.0          19.0\n",
            "379       Endo       Wataru             MID          4.8           1.0\n",
            "\n",
            "4-3-3 Total Team Cost: 72.2\n",
            "\n",
            "4-5-1 Starting 11:\n",
            "    first_name       second_name player_position  player_cost  total_points\n",
            "430      Altay          Bayindir             GKP          4.4           0.0\n",
            "184       Marc  Cucurella Saseta             DEF          5.0          14.0\n",
            "55         Pau            Torres             DEF          4.5           7.0\n",
            "537     Ronnie           Edwards             DEF          4.0           0.0\n",
            "453   Noussair          Mazraoui             DEF          4.6          25.0\n",
            "25       Mikel            Merino             MID          6.0           0.0\n",
            "293   Harrison              Reed             MID          4.9           4.0\n",
            "557        Ben     Brereton Díaz             MID          5.3           8.0\n",
            "379       Endo            Wataru             MID          4.8           1.0\n",
            "355    Wilfred             Ndidi             MID          5.0          19.0\n",
            "312       Liam             Delap             FWD          5.5          13.0\n",
            "\n",
            "4-5-1 Substitutes:\n",
            "    first_name  second_name player_position  player_cost  total_points\n",
            "571     Fraser      Forster             GKP          4.4           0.0\n",
            "219      Chadi  Riad Dnanou             DEF          4.4           1.0\n",
            "344     Patson         Daka             FWD          4.9           0.0\n",
            "593       Will    Lankshear             FWD          4.5           0.0\n",
            "\n",
            "4-5-1 Total Team Cost: 72.2\n",
            "\n",
            "3-5-2 Starting 11:\n",
            "    first_name       second_name player_position  player_cost  total_points\n",
            "430      Altay          Bayindir             GKP          4.4           0.0\n",
            "184       Marc  Cucurella Saseta             DEF          5.0          14.0\n",
            "55         Pau            Torres             DEF          4.5           7.0\n",
            "537     Ronnie           Edwards             DEF          4.0           0.0\n",
            "25       Mikel            Merino             MID          6.0           0.0\n",
            "293   Harrison              Reed             MID          4.9           4.0\n",
            "557        Ben     Brereton Díaz             MID          5.3           8.0\n",
            "379       Endo            Wataru             MID          4.8           1.0\n",
            "355    Wilfred             Ndidi             MID          5.0          19.0\n",
            "312       Liam             Delap             FWD          5.5          13.0\n",
            "593       Will         Lankshear             FWD          4.5           0.0\n",
            "\n",
            "3-5-2 Substitutes:\n",
            "    first_name  second_name player_position  player_cost  total_points\n",
            "571     Fraser      Forster             GKP          4.4           0.0\n",
            "219      Chadi  Riad Dnanou             DEF          4.4           1.0\n",
            "344     Patson         Daka             FWD          4.9           0.0\n",
            "453   Noussair     Mazraoui             DEF          4.6          25.0\n",
            "\n",
            "3-5-2 Total Team Cost: 72.2\n"
          ]
        }
      ],
      "source": [
        "import pandas as pd\n",
        "import numpy as np\n",
        "from tensorflow.keras.layers import Input, Dense, Lambda\n",
        "from tensorflow.keras.models import Model\n",
        "from tensorflow.keras import backend as K\n",
        "\n",
        "# Step 1: Load and preprocess data\n",
        "df = pd.read_csv('fpl_playerstats_2024-25.csv')\n",
        "df = df.fillna(0)\n",
        "df['player_cost'] = pd.to_numeric(df['player_cost'], errors='coerce').fillna(0.1)\n",
        "df['player_position'] = df['player_position'].fillna('Unknown')\n",
        "\n",
        "# Step 2: Generate synthetic teams\n",
        "def generate_team(df, budget=100, max_players=15):\n",
        "    team = []\n",
        "    total_cost = 0\n",
        "    positions = {'GKP': 2, 'DEF': 5, 'MID': 5, 'FWD': 3}\n",
        "    for pos, count in positions.items():\n",
        "        pos_players = df[df['player_position'] == pos]\n",
        "        if len(pos_players) < count:\n",
        "            return []  # Skip if not enough players in position\n",
        "        selected = pos_players.sample(n=count, random_state=np.random.randint(1000))\n",
        "        team.extend(selected.index)\n",
        "        total_cost += selected['player_cost'].sum()\n",
        "    if total_cost <= budget and len(team) == max_players:\n",
        "        return team\n",
        "    return []\n",
        "\n",
        "# Generate 1000 synthetic teams\n",
        "teams = [generate_team(df) for _ in range(1000)]\n",
        "teams = [t for t in teams if t]  # Filter valid teams\n",
        "if not teams:\n",
        "    raise ValueError(\"No valid teams generated. Check dataset or constraints.\")\n",
        "\n",
        "# Step 3: Prepare data for VAE\n",
        "X = np.zeros((len(teams), len(df)))\n",
        "for i, team in enumerate(teams):\n",
        "    X[i, team] = 1\n",
        "\n",
        "# Step 4: Define VAE model\n",
        "input_dim = X.shape[1]\n",
        "latent_dim = 10\n",
        "inputs = Input(shape=(input_dim,))\n",
        "h = Dense(128, activation='relu')(inputs)\n",
        "z_mean = Dense(latent_dim)(h)\n",
        "z_log_var = Dense(latent_dim)(h)\n",
        "\n",
        "def sampling(args):\n",
        "    z_mean, z_log_var = args\n",
        "    epsilon = K.random_normal(shape=(K.shape(z_mean)[0], latent_dim))\n",
        "    return z_mean + K.exp(0.5 * z_log_var) * epsilon # Corrected z_log_value to z_log_var\n",
        "\n",
        "z = Lambda(sampling, output_shape=(latent_dim,))([z_mean, z_log_var]) # Added output_shape\n",
        "decoder_h = Dense(128, activation='relu')(z)\n",
        "outputs = Dense(input_dim, activation='sigmoid')(decoder_h)\n",
        "vae = Model(inputs, outputs)\n",
        "vae.compile(optimizer='adam', loss='binary_crossentropy')\n",
        "\n",
        "# Step 5: Train VAE\n",
        "vae.fit(X, X, epochs=50, batch_size=32, validation_split=0.2, verbose=1)\n",
        "\n",
        "# Step 6: Generate a synthetic team (Modified select_valid_team function)\n",
        "def select_valid_team(synthetic_team_probs, df, budget=100, max_attempts=500):\n",
        "    \"\"\"\n",
        "    Selects a valid 15-player FPL team (2 GKP, 5 DEF, 5 MID, 3 FWD)\n",
        "    from player probabilities generated by the VAE, respecting budget and positions.\n",
        "    Iteratively tries to build a team by picking players based on adjusted probabilities.\n",
        "    \"\"\"\n",
        "    player_probs_original = synthetic_team_probs.copy()\n",
        "\n",
        "    # Required positions and counts\n",
        "    required_positions = {'GKP': 2, 'DEF': 5, 'MID': 5, 'FWD': 3}\n",
        "\n",
        "    for attempt in range(max_attempts):\n",
        "        temp_team_indices = []\n",
        "        temp_team_cost = 0.0\n",
        "        temp_pos_counts = {'GKP': 0, 'DEF': 0, 'MID': 0, 'FWD': 0}\n",
        "\n",
        "        # To introduce more randomness and explore different combinations\n",
        "        # We'll re-rank players based on slightly perturbed probabilities for each attempt\n",
        "        # Increased std dev for perturbation\n",
        "        perturbed_probs = player_probs_original + np.random.normal(0, 0.02, player_probs_original.shape)\n",
        "        ranked_players_for_attempt = np.argsort(perturbed_probs)[::-1]\n",
        "\n",
        "        # Iterate through players sorted by probability\n",
        "        for player_idx in ranked_players_for_attempt:\n",
        "            player = df.iloc[player_idx]\n",
        "            player_cost = player['player_cost']\n",
        "            player_pos = player['player_position']\n",
        "\n",
        "            # Check if adding this player would exceed the max count for their position\n",
        "            # and if the team size is already 15\n",
        "            if player_pos in required_positions and \\\n",
        "               temp_pos_counts[player_pos] < required_positions[player_pos] and \\\n",
        "               len(temp_team_indices) < 15 and \\\n",
        "               (temp_team_cost + player_cost) <= budget:\n",
        "\n",
        "                temp_team_indices.append(player_idx)\n",
        "                temp_team_cost += player_cost\n",
        "                temp_pos_counts[player_pos] += 1\n",
        "\n",
        "                # If we have filled all required positions and have 15 players, we are done\n",
        "                if len(temp_team_indices) == 15 and \\\n",
        "                   all(temp_pos_counts[pos] == required_positions[pos] for pos in required_positions):\n",
        "                    if temp_team_cost <= budget:\n",
        "                        return temp_team_indices\n",
        "                    else:\n",
        "                        break # Cannot form a valid team with these selections\n",
        "            elif len(temp_team_indices) == 15:\n",
        "                 break # If we have 15 players, and it's not a valid team, break and try another perturbation\n",
        "\n",
        "    return None # No valid team found after max_attempts\n",
        "\n",
        "# Generate one synthetic team\n",
        "synthetic_teams = vae.predict(X, batch_size=32)\n",
        "synthetic_team_probs = synthetic_teams[0]\n",
        "selected_indices = select_valid_team(synthetic_team_probs, df)\n",
        "\n",
        "if selected_indices is None:\n",
        "    raise ValueError(\"Failed to generate a valid team after multiple attempts.\")\n",
        "\n",
        "# Step 7: Assign starting 11 and substitutes for each formation\n",
        "formations = {\n",
        "    '4-4-2': {'GKP': 1, 'DEF': 4, 'MID': 4, 'FWD': 2},\n",
        "    '4-3-3': {'GKP': 1, 'DEF': 4, 'MID': 3, 'FWD': 3},\n",
        "    '4-5-1': {'GKP': 1, 'DEF': 4, 'MID': 5, 'FWD': 1},\n",
        "    '3-5-2': {'GKP': 1, 'DEF': 3, 'MID': 5, 'FWD': 2}\n",
        "}\n",
        "\n",
        "def assign_team_roles(indices, df, formation_counts):\n",
        "    team_df = df.iloc[indices]\n",
        "    starting_11 = pd.DataFrame()\n",
        "    for pos, count in formation_counts.items():\n",
        "        pos_players = team_df[team_df['player_position'] == pos]\n",
        "        if len(pos_players) < count:\n",
        "            return None, None  # Invalid formation\n",
        "        selected = pos_players.sample(n=count, random_state=42)\n",
        "        starting_11 = pd.concat([starting_11, selected])\n",
        "    starting_indices = starting_11.index\n",
        "    remaining = team_df[~team_df.index.isin(starting_indices)]\n",
        "    subs = pd.DataFrame()\n",
        "\n",
        "    # Ensure we select 4 substitutes (1 GKP, 3 outfield)\n",
        "    sub_positions_needed = {'GKP': 1, 'DEF': 1, 'MID': 1, 'FWD': 1}\n",
        "    selected_sub_indices = []\n",
        "\n",
        "    for pos, count in sub_positions_needed.items():\n",
        "        pos_remaining = remaining[remaining['player_position'] == pos]\n",
        "        if len(pos_remaining) >= count:\n",
        "            # Randomly select a player from the remaining for this position\n",
        "            sub_player = pos_remaining.sample(n=count, random_state=42)\n",
        "            subs = pd.concat([subs, sub_player])\n",
        "            selected_sub_indices.extend(sub_player.index.tolist())\n",
        "        else:\n",
        "            # If a specific position is not available for subs, try to fill with any outfield player\n",
        "            # This is a fallback if strict positional subs are not possible\n",
        "            pass # Keep it simple for now, as 15 players usually allow for this\n",
        "\n",
        "    # If we don't have exactly 4 substitutes, or if any position is missing,\n",
        "    # we need a more robust way to select remaining players.\n",
        "    # For now, let's assume we have enough for 1 GKP and 3 outfield based on the 15-player team.\n",
        "    if len(subs) != 4: # This check is important\n",
        "        # Fallback: if not enough positional subs, just take any remaining 4 players\n",
        "        # (excluding starting 11) to form subs, as long as there are players left.\n",
        "        # This part might need further refinement based on strict FPL sub rules if necessary.\n",
        "        remaining_for_any_sub = team_df[~team_df.index.isin(starting_indices.tolist() + selected_sub_indices)]\n",
        "        if len(remaining_for_any_sub) >= (4 - len(subs)):\n",
        "            additional_subs = remaining_for_any_sub.sample(n=(4 - len(subs)), random_state=42)\n",
        "            subs = pd.concat([subs, additional_subs])\n",
        "    return starting_11, subs\n",
        "\n",
        "\n",
        "# Step 8: Display results for each formation\n",
        "for formation, counts in formations.items():\n",
        "    starting_11, substitutes = assign_team_roles(selected_indices, df, counts)\n",
        "    if starting_11 is None or len(starting_11) != 11 or len(substitutes) != 4:\n",
        "        print(f\"\\n{formation}: Unable to form a valid team or complete subs.\")\n",
        "        continue\n",
        "    print(f\"\\n{formation} Starting 11:\")\n",
        "    print(starting_11[['first_name', 'second_name', 'player_position', 'player_cost', 'total_points']])\n",
        "    print(f\"\\n{formation} Substitutes:\")\n",
        "    print(substitutes[['first_name', 'second_name', 'player_position', 'player_cost', 'total_points']])\n",
        "    total_cost = starting_11['player_cost'].sum() + substitutes['player_cost'].sum()\n",
        "    print(f\"\\n{formation} Total Team Cost: {total_cost:.1f}\")"
      ]
    },
    {
      "cell_type": "code",
      "execution_count": 40,
      "metadata": {
        "colab": {
          "base_uri": "https://localhost:8080/"
        },
        "id": "8y4KQeCNx2Pd",
        "outputId": "fd74eb71-eb3e-4d1d-b152-04c9da488abc"
      },
      "outputs": [
        {
          "name": "stdout",
          "output_type": "stream",
          "text": [
            "\n",
            "Visualizations saved for 4-4-2:\n",
            "- 4_4_2_starting_11_pos_distribution.json\n",
            "- 4_4_2_substitutes_pos_distribution.json\n",
            "- 4_4_2_cost_breakdown.json\n",
            "\n",
            "Visualizations saved for 4-3-3:\n",
            "- 4_3_3_starting_11_pos_distribution.json\n",
            "- 4_3_3_substitutes_pos_distribution.json\n",
            "- 4_3_3_cost_breakdown.json\n",
            "\n",
            "Visualizations saved for 4-5-1:\n",
            "- 4_5_1_starting_11_pos_distribution.json\n",
            "- 4_5_1_substitutes_pos_distribution.json\n",
            "- 4_5_1_cost_breakdown.json\n",
            "\n",
            "Visualizations saved for 3-5-2:\n",
            "- 3_5_2_starting_11_pos_distribution.json\n",
            "- 3_5_2_substitutes_pos_distribution.json\n",
            "- 3_5_2_cost_breakdown.json\n"
          ]
        }
      ],
      "source": [
        "import altair as alt\n",
        "\n",
        "# Step 9: Add visuals to the output\n",
        "\n",
        "# Redefine assign_team_roles to ensure it returns DataFrames for consistency\n",
        "# (This is already done in the previous turn, but just to be explicit if running this as a standalone block)\n",
        "def assign_team_roles(indices, df, formation_counts):\n",
        "    team_df = df.iloc[indices]\n",
        "    starting_11 = pd.DataFrame()\n",
        "    for pos, count in formation_counts.items():\n",
        "        pos_players = team_df[team_df['player_position'] == pos]\n",
        "        if len(pos_players) < count:\n",
        "            return None, None  # Invalid formation\n",
        "        selected = pos_players.sample(n=count, random_state=42)\n",
        "        starting_11 = pd.concat([starting_11, selected])\n",
        "    starting_indices = starting_11.index\n",
        "    remaining = team_df[~team_df.index.isin(starting_indices)]\n",
        "    subs = pd.DataFrame()\n",
        "\n",
        "    sub_positions_needed = {'GKP': 1, 'DEF': 1, 'MID': 1, 'FWD': 1}\n",
        "    selected_sub_indices = []\n",
        "\n",
        "    for pos, count in sub_positions_needed.items():\n",
        "        pos_remaining = remaining[remaining['player_position'] == pos]\n",
        "        if len(pos_remaining) >= count:\n",
        "            sub_player = pos_remaining.sample(n=count, random_state=42)\n",
        "            subs = pd.concat([subs, sub_player])\n",
        "            selected_sub_indices.extend(sub_player.index.tolist())\n",
        "\n",
        "    if len(subs) != 4:\n",
        "        remaining_for_any_sub = team_df[~team_df.index.isin(starting_indices.tolist() + selected_sub_indices)]\n",
        "        if len(remaining_for_any_sub) >= (4 - len(subs)):\n",
        "            additional_subs = remaining_for_any_sub.sample(n=(4 - len(subs)), random_state=42)\n",
        "            subs = pd.concat([subs, additional_subs])\n",
        "    return starting_11, subs\n",
        "\n",
        "# Loop through formations and generate visuals\n",
        "for formation, counts in formations.items():\n",
        "    starting_11, substitutes = assign_team_roles(selected_indices, df, counts)\n",
        "\n",
        "    if starting_11 is None or len(starting_11) != 11 or len(substitutes) != 4:\n",
        "        print(f\"\\n{formation}: Unable to form a valid team or complete subs. Skipping visuals.\")\n",
        "        continue\n",
        "\n",
        "    # --- Visual for Starting 11 Player Distribution ---\n",
        "    starting_11_pos_counts = starting_11['player_position'].value_counts().reset_index()\n",
        "    starting_11_pos_counts.columns = ['Player Position', 'Count']\n",
        "\n",
        "    chart_starting_11_pos = alt.Chart(starting_11_pos_counts).mark_bar().encode(\n",
        "        x=alt.X('Player Position', axis=alt.Axis(title='Player Position')),\n",
        "        y=alt.Y('Count', axis=alt.Axis(title='Number of Players')),\n",
        "        tooltip=['Player Position', 'Count']\n",
        "    ).properties(\n",
        "        title=f'{formation} - Starting 11 Player Distribution'\n",
        "    ).interactive()\n",
        "    chart_starting_11_pos.save(f'{formation.replace(\"-\", \"_\")}_starting_11_pos_distribution.json')\n",
        "\n",
        "    # --- Visual for Substitutes Player Distribution ---\n",
        "    subs_pos_counts = substitutes['player_position'].value_counts().reset_index()\n",
        "    subs_pos_counts.columns = ['Player Position', 'Count']\n",
        "\n",
        "    chart_subs_pos = alt.Chart(subs_pos_counts).mark_bar().encode(\n",
        "        x=alt.X('Player Position', axis=alt.Axis(title='Player Position')),\n",
        "        y=alt.Y('Count', axis=alt.Axis(title='Number of Players')),\n",
        "        tooltip=['Player Position', 'Count']\n",
        "    ).properties(\n",
        "        title=f'{formation} - Substitutes Player Distribution'\n",
        "    ).interactive()\n",
        "    chart_subs_pos.save(f'{formation.replace(\"-\", \"_\")}_substitutes_pos_distribution.json')\n",
        "\n",
        "    # --- Visual for Team Cost Breakdown ---\n",
        "    cost_data = pd.DataFrame({\n",
        "        'Category': ['Starting 11 Cost', 'Substitutes Cost'],\n",
        "        'Cost': [starting_11['player_cost'].sum(), substitutes['player_cost'].sum()]\n",
        "    })\n",
        "\n",
        "    chart_cost_breakdown = alt.Chart(cost_data).mark_bar().encode(\n",
        "        x=alt.X('Category', axis=alt.Axis(title='Category')),\n",
        "        y=alt.Y('Cost', axis=alt.Axis(title='Total Cost')),\n",
        "        tooltip=['Category', alt.Tooltip('Cost', format='.1f')]\n",
        "    ).properties(\n",
        "        title=f'{formation} - Team Cost Breakdown'\n",
        "    ).interactive()\n",
        "    chart_cost_breakdown.save(f'{formation.replace(\"-\", \"_\")}_cost_breakdown.json')\n",
        "\n",
        "    print(f\"\\nVisualizations saved for {formation}:\")\n",
        "    print(f\"- {formation.replace('-', '_')}_starting_11_pos_distribution.json\")\n",
        "    print(f\"- {formation.replace('-', '_')}_substitutes_pos_distribution.json\")\n",
        "    print(f\"- {formation.replace('-', '_')}_cost_breakdown.json\")"
      ]
    }
  ],
  "metadata": {
    "colab": {
      "provenance": []
    },
    "kernelspec": {
      "display_name": "Python 3",
      "name": "python3"
    },
    "language_info": {
      "name": "python"
    },
    "widgets": {
      "application/vnd.jupyter.widget-state+json": {
        "07925f55270142eb8135202a1d5f4859": {
          "model_module": "@jupyter-widgets/controls",
          "model_module_version": "1.5.0",
          "model_name": "HTMLModel",
          "state": {
            "_dom_classes": [],
            "_model_module": "@jupyter-widgets/controls",
            "_model_module_version": "1.5.0",
            "_model_name": "HTMLModel",
            "_view_count": null,
            "_view_module": "@jupyter-widgets/controls",
            "_view_module_version": "1.5.0",
            "_view_name": "HTMLView",
            "description": "",
            "description_tooltip": null,
            "layout": "IPY_MODEL_c6487618ba534f469d9cc17b3c003ced",
            "placeholder": "​",
            "style": "IPY_MODEL_0a210d45adb44b6fbe057e4071bc84ec",
            "value": " 466k/466k [00:00&lt;00:00, 4.65MB/s]"
          }
        },
        "0930de79f9df4d80b2ab165ffbc293a0": {
          "model_module": "@jupyter-widgets/base",
          "model_module_version": "1.2.0",
          "model_name": "LayoutModel",
          "state": {
            "_model_module": "@jupyter-widgets/base",
            "_model_module_version": "1.2.0",
            "_model_name": "LayoutModel",
            "_view_count": null,
            "_view_module": "@jupyter-widgets/base",
            "_view_module_version": "1.2.0",
            "_view_name": "LayoutView",
            "align_content": null,
            "align_items": null,
            "align_self": null,
            "border": null,
            "bottom": null,
            "display": null,
            "flex": null,
            "flex_flow": null,
            "grid_area": null,
            "grid_auto_columns": null,
            "grid_auto_flow": null,
            "grid_auto_rows": null,
            "grid_column": null,
            "grid_gap": null,
            "grid_row": null,
            "grid_template_areas": null,
            "grid_template_columns": null,
            "grid_template_rows": null,
            "height": null,
            "justify_content": null,
            "justify_items": null,
            "left": null,
            "margin": null,
            "max_height": null,
            "max_width": null,
            "min_height": null,
            "min_width": null,
            "object_fit": null,
            "object_position": null,
            "order": null,
            "overflow": null,
            "overflow_x": null,
            "overflow_y": null,
            "padding": null,
            "right": null,
            "top": null,
            "visibility": null,
            "width": null
          }
        },
        "0a210d45adb44b6fbe057e4071bc84ec": {
          "model_module": "@jupyter-widgets/controls",
          "model_module_version": "1.5.0",
          "model_name": "DescriptionStyleModel",
          "state": {
            "_model_module": "@jupyter-widgets/controls",
            "_model_module_version": "1.5.0",
            "_model_name": "DescriptionStyleModel",
            "_view_count": null,
            "_view_module": "@jupyter-widgets/base",
            "_view_module_version": "1.2.0",
            "_view_name": "StyleView",
            "description_width": ""
          }
        },
        "0c86d6904d904f04b0f194249f53cf3d": {
          "model_module": "@jupyter-widgets/controls",
          "model_module_version": "1.5.0",
          "model_name": "HBoxModel",
          "state": {
            "_dom_classes": [],
            "_model_module": "@jupyter-widgets/controls",
            "_model_module_version": "1.5.0",
            "_model_name": "HBoxModel",
            "_view_count": null,
            "_view_module": "@jupyter-widgets/controls",
            "_view_module_version": "1.5.0",
            "_view_name": "HBoxView",
            "box_style": "",
            "children": [
              "IPY_MODEL_dc3d23fb49cf450ba72acc9e7ccd5a68",
              "IPY_MODEL_6b0c59da67624452a3c36c5c31541a88",
              "IPY_MODEL_0fb26328f4ed4e42ad63ee9a9ed1eded"
            ],
            "layout": "IPY_MODEL_8bdd62a4b3dd4e0f801e63395fbca1e3"
          }
        },
        "0e4a0ca4b94a4637943d659662adf94c": {
          "model_module": "@jupyter-widgets/base",
          "model_module_version": "1.2.0",
          "model_name": "LayoutModel",
          "state": {
            "_model_module": "@jupyter-widgets/base",
            "_model_module_version": "1.2.0",
            "_model_name": "LayoutModel",
            "_view_count": null,
            "_view_module": "@jupyter-widgets/base",
            "_view_module_version": "1.2.0",
            "_view_name": "LayoutView",
            "align_content": null,
            "align_items": null,
            "align_self": null,
            "border": null,
            "bottom": null,
            "display": null,
            "flex": null,
            "flex_flow": null,
            "grid_area": null,
            "grid_auto_columns": null,
            "grid_auto_flow": null,
            "grid_auto_rows": null,
            "grid_column": null,
            "grid_gap": null,
            "grid_row": null,
            "grid_template_areas": null,
            "grid_template_columns": null,
            "grid_template_rows": null,
            "height": null,
            "justify_content": null,
            "justify_items": null,
            "left": null,
            "margin": null,
            "max_height": null,
            "max_width": null,
            "min_height": null,
            "min_width": null,
            "object_fit": null,
            "object_position": null,
            "order": null,
            "overflow": null,
            "overflow_x": null,
            "overflow_y": null,
            "padding": null,
            "right": null,
            "top": null,
            "visibility": null,
            "width": null
          }
        },
        "0fb26328f4ed4e42ad63ee9a9ed1eded": {
          "model_module": "@jupyter-widgets/controls",
          "model_module_version": "1.5.0",
          "model_name": "HTMLModel",
          "state": {
            "_dom_classes": [],
            "_model_module": "@jupyter-widgets/controls",
            "_model_module_version": "1.5.0",
            "_model_name": "HTMLModel",
            "_view_count": null,
            "_view_module": "@jupyter-widgets/controls",
            "_view_module_version": "1.5.0",
            "_view_name": "HTMLView",
            "description": "",
            "description_tooltip": null,
            "layout": "IPY_MODEL_0930de79f9df4d80b2ab165ffbc293a0",
            "placeholder": "​",
            "style": "IPY_MODEL_d201aa9df61f417d96c6dcc0740684e1",
            "value": " 440M/440M [00:07&lt;00:00, 63.2MB/s]"
          }
        },
        "12f3961cf241430e9c0d085b8f04ca0d": {
          "model_module": "@jupyter-widgets/base",
          "model_module_version": "1.2.0",
          "model_name": "LayoutModel",
          "state": {
            "_model_module": "@jupyter-widgets/base",
            "_model_module_version": "1.2.0",
            "_model_name": "LayoutModel",
            "_view_count": null,
            "_view_module": "@jupyter-widgets/base",
            "_view_module_version": "1.2.0",
            "_view_name": "LayoutView",
            "align_content": null,
            "align_items": null,
            "align_self": null,
            "border": null,
            "bottom": null,
            "display": null,
            "flex": null,
            "flex_flow": null,
            "grid_area": null,
            "grid_auto_columns": null,
            "grid_auto_flow": null,
            "grid_auto_rows": null,
            "grid_column": null,
            "grid_gap": null,
            "grid_row": null,
            "grid_template_areas": null,
            "grid_template_columns": null,
            "grid_template_rows": null,
            "height": null,
            "justify_content": null,
            "justify_items": null,
            "left": null,
            "margin": null,
            "max_height": null,
            "max_width": null,
            "min_height": null,
            "min_width": null,
            "object_fit": null,
            "object_position": null,
            "order": null,
            "overflow": null,
            "overflow_x": null,
            "overflow_y": null,
            "padding": null,
            "right": null,
            "top": null,
            "visibility": null,
            "width": null
          }
        },
        "13190eafded24c4397f7c798c91282de": {
          "model_module": "@jupyter-widgets/controls",
          "model_module_version": "1.5.0",
          "model_name": "DescriptionStyleModel",
          "state": {
            "_model_module": "@jupyter-widgets/controls",
            "_model_module_version": "1.5.0",
            "_model_name": "DescriptionStyleModel",
            "_view_count": null,
            "_view_module": "@jupyter-widgets/base",
            "_view_module_version": "1.2.0",
            "_view_name": "StyleView",
            "description_width": ""
          }
        },
        "13fd9ea2704d4e6ca11c659cd2a2f68a": {
          "model_module": "@jupyter-widgets/base",
          "model_module_version": "1.2.0",
          "model_name": "LayoutModel",
          "state": {
            "_model_module": "@jupyter-widgets/base",
            "_model_module_version": "1.2.0",
            "_model_name": "LayoutModel",
            "_view_count": null,
            "_view_module": "@jupyter-widgets/base",
            "_view_module_version": "1.2.0",
            "_view_name": "LayoutView",
            "align_content": null,
            "align_items": null,
            "align_self": null,
            "border": null,
            "bottom": null,
            "display": null,
            "flex": null,
            "flex_flow": null,
            "grid_area": null,
            "grid_auto_columns": null,
            "grid_auto_flow": null,
            "grid_auto_rows": null,
            "grid_column": null,
            "grid_gap": null,
            "grid_row": null,
            "grid_template_areas": null,
            "grid_template_columns": null,
            "grid_template_rows": null,
            "height": null,
            "justify_content": null,
            "justify_items": null,
            "left": null,
            "margin": null,
            "max_height": null,
            "max_width": null,
            "min_height": null,
            "min_width": null,
            "object_fit": null,
            "object_position": null,
            "order": null,
            "overflow": null,
            "overflow_x": null,
            "overflow_y": null,
            "padding": null,
            "right": null,
            "top": null,
            "visibility": null,
            "width": null
          }
        },
        "1e876358b0f345d4a712aa01f702c7ae": {
          "model_module": "@jupyter-widgets/base",
          "model_module_version": "1.2.0",
          "model_name": "LayoutModel",
          "state": {
            "_model_module": "@jupyter-widgets/base",
            "_model_module_version": "1.2.0",
            "_model_name": "LayoutModel",
            "_view_count": null,
            "_view_module": "@jupyter-widgets/base",
            "_view_module_version": "1.2.0",
            "_view_name": "LayoutView",
            "align_content": null,
            "align_items": null,
            "align_self": null,
            "border": null,
            "bottom": null,
            "display": null,
            "flex": null,
            "flex_flow": null,
            "grid_area": null,
            "grid_auto_columns": null,
            "grid_auto_flow": null,
            "grid_auto_rows": null,
            "grid_column": null,
            "grid_gap": null,
            "grid_row": null,
            "grid_template_areas": null,
            "grid_template_columns": null,
            "grid_template_rows": null,
            "height": null,
            "justify_content": null,
            "justify_items": null,
            "left": null,
            "margin": null,
            "max_height": null,
            "max_width": null,
            "min_height": null,
            "min_width": null,
            "object_fit": null,
            "object_position": null,
            "order": null,
            "overflow": null,
            "overflow_x": null,
            "overflow_y": null,
            "padding": null,
            "right": null,
            "top": null,
            "visibility": null,
            "width": null
          }
        },
        "235fc5937e014b3494f4a84d9804cb99": {
          "model_module": "@jupyter-widgets/controls",
          "model_module_version": "1.5.0",
          "model_name": "DescriptionStyleModel",
          "state": {
            "_model_module": "@jupyter-widgets/controls",
            "_model_module_version": "1.5.0",
            "_model_name": "DescriptionStyleModel",
            "_view_count": null,
            "_view_module": "@jupyter-widgets/base",
            "_view_module_version": "1.2.0",
            "_view_name": "StyleView",
            "description_width": ""
          }
        },
        "25a4a6ff373646808b561e8911b19c45": {
          "model_module": "@jupyter-widgets/controls",
          "model_module_version": "1.5.0",
          "model_name": "FloatProgressModel",
          "state": {
            "_dom_classes": [],
            "_model_module": "@jupyter-widgets/controls",
            "_model_module_version": "1.5.0",
            "_model_name": "FloatProgressModel",
            "_view_count": null,
            "_view_module": "@jupyter-widgets/controls",
            "_view_module_version": "1.5.0",
            "_view_name": "ProgressView",
            "bar_style": "success",
            "description": "",
            "description_tooltip": null,
            "layout": "IPY_MODEL_1e876358b0f345d4a712aa01f702c7ae",
            "max": 48,
            "min": 0,
            "orientation": "horizontal",
            "style": "IPY_MODEL_9ac314f750d44cc68d2dfa1edf7daafb",
            "value": 48
          }
        },
        "32011a10cca041ef9baec03e6732378d": {
          "model_module": "@jupyter-widgets/controls",
          "model_module_version": "1.5.0",
          "model_name": "HTMLModel",
          "state": {
            "_dom_classes": [],
            "_model_module": "@jupyter-widgets/controls",
            "_model_module_version": "1.5.0",
            "_model_name": "HTMLModel",
            "_view_count": null,
            "_view_module": "@jupyter-widgets/controls",
            "_view_module_version": "1.5.0",
            "_view_name": "HTMLView",
            "description": "",
            "description_tooltip": null,
            "layout": "IPY_MODEL_12f3961cf241430e9c0d085b8f04ca0d",
            "placeholder": "​",
            "style": "IPY_MODEL_c3b37021f8994b578c1913b697960073",
            "value": " 570/570 [00:00&lt;00:00, 27.5kB/s]"
          }
        },
        "3400c9874e5d47e5a876002556ae8ba2": {
          "model_module": "@jupyter-widgets/base",
          "model_module_version": "1.2.0",
          "model_name": "LayoutModel",
          "state": {
            "_model_module": "@jupyter-widgets/base",
            "_model_module_version": "1.2.0",
            "_model_name": "LayoutModel",
            "_view_count": null,
            "_view_module": "@jupyter-widgets/base",
            "_view_module_version": "1.2.0",
            "_view_name": "LayoutView",
            "align_content": null,
            "align_items": null,
            "align_self": null,
            "border": null,
            "bottom": null,
            "display": null,
            "flex": null,
            "flex_flow": null,
            "grid_area": null,
            "grid_auto_columns": null,
            "grid_auto_flow": null,
            "grid_auto_rows": null,
            "grid_column": null,
            "grid_gap": null,
            "grid_row": null,
            "grid_template_areas": null,
            "grid_template_columns": null,
            "grid_template_rows": null,
            "height": null,
            "justify_content": null,
            "justify_items": null,
            "left": null,
            "margin": null,
            "max_height": null,
            "max_width": null,
            "min_height": null,
            "min_width": null,
            "object_fit": null,
            "object_position": null,
            "order": null,
            "overflow": null,
            "overflow_x": null,
            "overflow_y": null,
            "padding": null,
            "right": null,
            "top": null,
            "visibility": null,
            "width": null
          }
        },
        "36152f2cd9d146848f1e8cb77ec43148": {
          "model_module": "@jupyter-widgets/base",
          "model_module_version": "1.2.0",
          "model_name": "LayoutModel",
          "state": {
            "_model_module": "@jupyter-widgets/base",
            "_model_module_version": "1.2.0",
            "_model_name": "LayoutModel",
            "_view_count": null,
            "_view_module": "@jupyter-widgets/base",
            "_view_module_version": "1.2.0",
            "_view_name": "LayoutView",
            "align_content": null,
            "align_items": null,
            "align_self": null,
            "border": null,
            "bottom": null,
            "display": null,
            "flex": null,
            "flex_flow": null,
            "grid_area": null,
            "grid_auto_columns": null,
            "grid_auto_flow": null,
            "grid_auto_rows": null,
            "grid_column": null,
            "grid_gap": null,
            "grid_row": null,
            "grid_template_areas": null,
            "grid_template_columns": null,
            "grid_template_rows": null,
            "height": null,
            "justify_content": null,
            "justify_items": null,
            "left": null,
            "margin": null,
            "max_height": null,
            "max_width": null,
            "min_height": null,
            "min_width": null,
            "object_fit": null,
            "object_position": null,
            "order": null,
            "overflow": null,
            "overflow_x": null,
            "overflow_y": null,
            "padding": null,
            "right": null,
            "top": null,
            "visibility": null,
            "width": null
          }
        },
        "3a19e8cabdac4355ac08bdedd016c947": {
          "model_module": "@jupyter-widgets/controls",
          "model_module_version": "1.5.0",
          "model_name": "HBoxModel",
          "state": {
            "_dom_classes": [],
            "_model_module": "@jupyter-widgets/controls",
            "_model_module_version": "1.5.0",
            "_model_name": "HBoxModel",
            "_view_count": null,
            "_view_module": "@jupyter-widgets/controls",
            "_view_module_version": "1.5.0",
            "_view_name": "HBoxView",
            "box_style": "",
            "children": [
              "IPY_MODEL_74258524f6d246f7b29cc68991ec94d2",
              "IPY_MODEL_c3d3da999ce24026bf11387343fd5848",
              "IPY_MODEL_07925f55270142eb8135202a1d5f4859"
            ],
            "layout": "IPY_MODEL_7dc1c2430fb9422ea8850f53010cb809"
          }
        },
        "4bec0ce95dd04888ab87160e793aef1c": {
          "model_module": "@jupyter-widgets/controls",
          "model_module_version": "1.5.0",
          "model_name": "FloatProgressModel",
          "state": {
            "_dom_classes": [],
            "_model_module": "@jupyter-widgets/controls",
            "_model_module_version": "1.5.0",
            "_model_name": "FloatProgressModel",
            "_view_count": null,
            "_view_module": "@jupyter-widgets/controls",
            "_view_module_version": "1.5.0",
            "_view_name": "ProgressView",
            "bar_style": "success",
            "description": "",
            "description_tooltip": null,
            "layout": "IPY_MODEL_638d999299cd4e499f3ccd69678a1a6f",
            "max": 231508,
            "min": 0,
            "orientation": "horizontal",
            "style": "IPY_MODEL_c305394ebbf8457b93250f102333f40b",
            "value": 231508
          }
        },
        "4e6b7e7ac4e94942b91f35150ce28cb1": {
          "model_module": "@jupyter-widgets/controls",
          "model_module_version": "1.5.0",
          "model_name": "HBoxModel",
          "state": {
            "_dom_classes": [],
            "_model_module": "@jupyter-widgets/controls",
            "_model_module_version": "1.5.0",
            "_model_name": "HBoxModel",
            "_view_count": null,
            "_view_module": "@jupyter-widgets/controls",
            "_view_module_version": "1.5.0",
            "_view_name": "HBoxView",
            "box_style": "",
            "children": [
              "IPY_MODEL_9624b461b48a4de3a51d2cc14ef4db29",
              "IPY_MODEL_25a4a6ff373646808b561e8911b19c45",
              "IPY_MODEL_db811746d8044c749726a127f2e63b8d"
            ],
            "layout": "IPY_MODEL_ad85313ed27c4704857d1df1ff241244"
          }
        },
        "638d999299cd4e499f3ccd69678a1a6f": {
          "model_module": "@jupyter-widgets/base",
          "model_module_version": "1.2.0",
          "model_name": "LayoutModel",
          "state": {
            "_model_module": "@jupyter-widgets/base",
            "_model_module_version": "1.2.0",
            "_model_name": "LayoutModel",
            "_view_count": null,
            "_view_module": "@jupyter-widgets/base",
            "_view_module_version": "1.2.0",
            "_view_name": "LayoutView",
            "align_content": null,
            "align_items": null,
            "align_self": null,
            "border": null,
            "bottom": null,
            "display": null,
            "flex": null,
            "flex_flow": null,
            "grid_area": null,
            "grid_auto_columns": null,
            "grid_auto_flow": null,
            "grid_auto_rows": null,
            "grid_column": null,
            "grid_gap": null,
            "grid_row": null,
            "grid_template_areas": null,
            "grid_template_columns": null,
            "grid_template_rows": null,
            "height": null,
            "justify_content": null,
            "justify_items": null,
            "left": null,
            "margin": null,
            "max_height": null,
            "max_width": null,
            "min_height": null,
            "min_width": null,
            "object_fit": null,
            "object_position": null,
            "order": null,
            "overflow": null,
            "overflow_x": null,
            "overflow_y": null,
            "padding": null,
            "right": null,
            "top": null,
            "visibility": null,
            "width": null
          }
        },
        "6b0c59da67624452a3c36c5c31541a88": {
          "model_module": "@jupyter-widgets/controls",
          "model_module_version": "1.5.0",
          "model_name": "FloatProgressModel",
          "state": {
            "_dom_classes": [],
            "_model_module": "@jupyter-widgets/controls",
            "_model_module_version": "1.5.0",
            "_model_name": "FloatProgressModel",
            "_view_count": null,
            "_view_module": "@jupyter-widgets/controls",
            "_view_module_version": "1.5.0",
            "_view_name": "ProgressView",
            "bar_style": "success",
            "description": "",
            "description_tooltip": null,
            "layout": "IPY_MODEL_84ecb12ae05045efbe0e9664c2411140",
            "max": 440449768,
            "min": 0,
            "orientation": "horizontal",
            "style": "IPY_MODEL_c62434ffe8814aa1a613666099e91638",
            "value": 440449768
          }
        },
        "70072101d4ca4d5fa525dd51ba2da541": {
          "model_module": "@jupyter-widgets/base",
          "model_module_version": "1.2.0",
          "model_name": "LayoutModel",
          "state": {
            "_model_module": "@jupyter-widgets/base",
            "_model_module_version": "1.2.0",
            "_model_name": "LayoutModel",
            "_view_count": null,
            "_view_module": "@jupyter-widgets/base",
            "_view_module_version": "1.2.0",
            "_view_name": "LayoutView",
            "align_content": null,
            "align_items": null,
            "align_self": null,
            "border": null,
            "bottom": null,
            "display": null,
            "flex": null,
            "flex_flow": null,
            "grid_area": null,
            "grid_auto_columns": null,
            "grid_auto_flow": null,
            "grid_auto_rows": null,
            "grid_column": null,
            "grid_gap": null,
            "grid_row": null,
            "grid_template_areas": null,
            "grid_template_columns": null,
            "grid_template_rows": null,
            "height": null,
            "justify_content": null,
            "justify_items": null,
            "left": null,
            "margin": null,
            "max_height": null,
            "max_width": null,
            "min_height": null,
            "min_width": null,
            "object_fit": null,
            "object_position": null,
            "order": null,
            "overflow": null,
            "overflow_x": null,
            "overflow_y": null,
            "padding": null,
            "right": null,
            "top": null,
            "visibility": null,
            "width": null
          }
        },
        "74258524f6d246f7b29cc68991ec94d2": {
          "model_module": "@jupyter-widgets/controls",
          "model_module_version": "1.5.0",
          "model_name": "HTMLModel",
          "state": {
            "_dom_classes": [],
            "_model_module": "@jupyter-widgets/controls",
            "_model_module_version": "1.5.0",
            "_model_name": "HTMLModel",
            "_view_count": null,
            "_view_module": "@jupyter-widgets/controls",
            "_view_module_version": "1.5.0",
            "_view_name": "HTMLView",
            "description": "",
            "description_tooltip": null,
            "layout": "IPY_MODEL_b5f95f99adec413f81164bc76c38dbd9",
            "placeholder": "​",
            "style": "IPY_MODEL_bc6593a9d1734d8bb5ef3632c3c0c284",
            "value": "tokenizer.json: 100%"
          }
        },
        "78b8dcd1a9ee487baa3b61d17e6033cb": {
          "model_module": "@jupyter-widgets/controls",
          "model_module_version": "1.5.0",
          "model_name": "DescriptionStyleModel",
          "state": {
            "_model_module": "@jupyter-widgets/controls",
            "_model_module_version": "1.5.0",
            "_model_name": "DescriptionStyleModel",
            "_view_count": null,
            "_view_module": "@jupyter-widgets/base",
            "_view_module_version": "1.2.0",
            "_view_name": "StyleView",
            "description_width": ""
          }
        },
        "78e5f701cdf845b1af3b46dbd2f3b53b": {
          "model_module": "@jupyter-widgets/base",
          "model_module_version": "1.2.0",
          "model_name": "LayoutModel",
          "state": {
            "_model_module": "@jupyter-widgets/base",
            "_model_module_version": "1.2.0",
            "_model_name": "LayoutModel",
            "_view_count": null,
            "_view_module": "@jupyter-widgets/base",
            "_view_module_version": "1.2.0",
            "_view_name": "LayoutView",
            "align_content": null,
            "align_items": null,
            "align_self": null,
            "border": null,
            "bottom": null,
            "display": null,
            "flex": null,
            "flex_flow": null,
            "grid_area": null,
            "grid_auto_columns": null,
            "grid_auto_flow": null,
            "grid_auto_rows": null,
            "grid_column": null,
            "grid_gap": null,
            "grid_row": null,
            "grid_template_areas": null,
            "grid_template_columns": null,
            "grid_template_rows": null,
            "height": null,
            "justify_content": null,
            "justify_items": null,
            "left": null,
            "margin": null,
            "max_height": null,
            "max_width": null,
            "min_height": null,
            "min_width": null,
            "object_fit": null,
            "object_position": null,
            "order": null,
            "overflow": null,
            "overflow_x": null,
            "overflow_y": null,
            "padding": null,
            "right": null,
            "top": null,
            "visibility": null,
            "width": null
          }
        },
        "7dc1c2430fb9422ea8850f53010cb809": {
          "model_module": "@jupyter-widgets/base",
          "model_module_version": "1.2.0",
          "model_name": "LayoutModel",
          "state": {
            "_model_module": "@jupyter-widgets/base",
            "_model_module_version": "1.2.0",
            "_model_name": "LayoutModel",
            "_view_count": null,
            "_view_module": "@jupyter-widgets/base",
            "_view_module_version": "1.2.0",
            "_view_name": "LayoutView",
            "align_content": null,
            "align_items": null,
            "align_self": null,
            "border": null,
            "bottom": null,
            "display": null,
            "flex": null,
            "flex_flow": null,
            "grid_area": null,
            "grid_auto_columns": null,
            "grid_auto_flow": null,
            "grid_auto_rows": null,
            "grid_column": null,
            "grid_gap": null,
            "grid_row": null,
            "grid_template_areas": null,
            "grid_template_columns": null,
            "grid_template_rows": null,
            "height": null,
            "justify_content": null,
            "justify_items": null,
            "left": null,
            "margin": null,
            "max_height": null,
            "max_width": null,
            "min_height": null,
            "min_width": null,
            "object_fit": null,
            "object_position": null,
            "order": null,
            "overflow": null,
            "overflow_x": null,
            "overflow_y": null,
            "padding": null,
            "right": null,
            "top": null,
            "visibility": null,
            "width": null
          }
        },
        "7e0a27a43e1b4ce2a6ca2aabf7db5744": {
          "model_module": "@jupyter-widgets/base",
          "model_module_version": "1.2.0",
          "model_name": "LayoutModel",
          "state": {
            "_model_module": "@jupyter-widgets/base",
            "_model_module_version": "1.2.0",
            "_model_name": "LayoutModel",
            "_view_count": null,
            "_view_module": "@jupyter-widgets/base",
            "_view_module_version": "1.2.0",
            "_view_name": "LayoutView",
            "align_content": null,
            "align_items": null,
            "align_self": null,
            "border": null,
            "bottom": null,
            "display": null,
            "flex": null,
            "flex_flow": null,
            "grid_area": null,
            "grid_auto_columns": null,
            "grid_auto_flow": null,
            "grid_auto_rows": null,
            "grid_column": null,
            "grid_gap": null,
            "grid_row": null,
            "grid_template_areas": null,
            "grid_template_columns": null,
            "grid_template_rows": null,
            "height": null,
            "justify_content": null,
            "justify_items": null,
            "left": null,
            "margin": null,
            "max_height": null,
            "max_width": null,
            "min_height": null,
            "min_width": null,
            "object_fit": null,
            "object_position": null,
            "order": null,
            "overflow": null,
            "overflow_x": null,
            "overflow_y": null,
            "padding": null,
            "right": null,
            "top": null,
            "visibility": null,
            "width": null
          }
        },
        "80d652fe1c314c22a5e8e226717229b5": {
          "model_module": "@jupyter-widgets/controls",
          "model_module_version": "1.5.0",
          "model_name": "HTMLModel",
          "state": {
            "_dom_classes": [],
            "_model_module": "@jupyter-widgets/controls",
            "_model_module_version": "1.5.0",
            "_model_name": "HTMLModel",
            "_view_count": null,
            "_view_module": "@jupyter-widgets/controls",
            "_view_module_version": "1.5.0",
            "_view_name": "HTMLView",
            "description": "",
            "description_tooltip": null,
            "layout": "IPY_MODEL_0e4a0ca4b94a4637943d659662adf94c",
            "placeholder": "​",
            "style": "IPY_MODEL_13190eafded24c4397f7c798c91282de",
            "value": "vocab.txt: 100%"
          }
        },
        "84ecb12ae05045efbe0e9664c2411140": {
          "model_module": "@jupyter-widgets/base",
          "model_module_version": "1.2.0",
          "model_name": "LayoutModel",
          "state": {
            "_model_module": "@jupyter-widgets/base",
            "_model_module_version": "1.2.0",
            "_model_name": "LayoutModel",
            "_view_count": null,
            "_view_module": "@jupyter-widgets/base",
            "_view_module_version": "1.2.0",
            "_view_name": "LayoutView",
            "align_content": null,
            "align_items": null,
            "align_self": null,
            "border": null,
            "bottom": null,
            "display": null,
            "flex": null,
            "flex_flow": null,
            "grid_area": null,
            "grid_auto_columns": null,
            "grid_auto_flow": null,
            "grid_auto_rows": null,
            "grid_column": null,
            "grid_gap": null,
            "grid_row": null,
            "grid_template_areas": null,
            "grid_template_columns": null,
            "grid_template_rows": null,
            "height": null,
            "justify_content": null,
            "justify_items": null,
            "left": null,
            "margin": null,
            "max_height": null,
            "max_width": null,
            "min_height": null,
            "min_width": null,
            "object_fit": null,
            "object_position": null,
            "order": null,
            "overflow": null,
            "overflow_x": null,
            "overflow_y": null,
            "padding": null,
            "right": null,
            "top": null,
            "visibility": null,
            "width": null
          }
        },
        "8bdd62a4b3dd4e0f801e63395fbca1e3": {
          "model_module": "@jupyter-widgets/base",
          "model_module_version": "1.2.0",
          "model_name": "LayoutModel",
          "state": {
            "_model_module": "@jupyter-widgets/base",
            "_model_module_version": "1.2.0",
            "_model_name": "LayoutModel",
            "_view_count": null,
            "_view_module": "@jupyter-widgets/base",
            "_view_module_version": "1.2.0",
            "_view_name": "LayoutView",
            "align_content": null,
            "align_items": null,
            "align_self": null,
            "border": null,
            "bottom": null,
            "display": null,
            "flex": null,
            "flex_flow": null,
            "grid_area": null,
            "grid_auto_columns": null,
            "grid_auto_flow": null,
            "grid_auto_rows": null,
            "grid_column": null,
            "grid_gap": null,
            "grid_row": null,
            "grid_template_areas": null,
            "grid_template_columns": null,
            "grid_template_rows": null,
            "height": null,
            "justify_content": null,
            "justify_items": null,
            "left": null,
            "margin": null,
            "max_height": null,
            "max_width": null,
            "min_height": null,
            "min_width": null,
            "object_fit": null,
            "object_position": null,
            "order": null,
            "overflow": null,
            "overflow_x": null,
            "overflow_y": null,
            "padding": null,
            "right": null,
            "top": null,
            "visibility": null,
            "width": null
          }
        },
        "8f606507b2894c15965d20af24b668fe": {
          "model_module": "@jupyter-widgets/controls",
          "model_module_version": "1.5.0",
          "model_name": "DescriptionStyleModel",
          "state": {
            "_model_module": "@jupyter-widgets/controls",
            "_model_module_version": "1.5.0",
            "_model_name": "DescriptionStyleModel",
            "_view_count": null,
            "_view_module": "@jupyter-widgets/base",
            "_view_module_version": "1.2.0",
            "_view_name": "StyleView",
            "description_width": ""
          }
        },
        "9624b461b48a4de3a51d2cc14ef4db29": {
          "model_module": "@jupyter-widgets/controls",
          "model_module_version": "1.5.0",
          "model_name": "HTMLModel",
          "state": {
            "_dom_classes": [],
            "_model_module": "@jupyter-widgets/controls",
            "_model_module_version": "1.5.0",
            "_model_name": "HTMLModel",
            "_view_count": null,
            "_view_module": "@jupyter-widgets/controls",
            "_view_module_version": "1.5.0",
            "_view_name": "HTMLView",
            "description": "",
            "description_tooltip": null,
            "layout": "IPY_MODEL_f6797c92310e40459ffad8946d2c9bcd",
            "placeholder": "​",
            "style": "IPY_MODEL_8f606507b2894c15965d20af24b668fe",
            "value": "tokenizer_config.json: 100%"
          }
        },
        "9ac314f750d44cc68d2dfa1edf7daafb": {
          "model_module": "@jupyter-widgets/controls",
          "model_module_version": "1.5.0",
          "model_name": "ProgressStyleModel",
          "state": {
            "_model_module": "@jupyter-widgets/controls",
            "_model_module_version": "1.5.0",
            "_model_name": "ProgressStyleModel",
            "_view_count": null,
            "_view_module": "@jupyter-widgets/base",
            "_view_module_version": "1.2.0",
            "_view_name": "StyleView",
            "bar_color": null,
            "description_width": ""
          }
        },
        "a168f618a8de4d85bee1cc027deefec8": {
          "model_module": "@jupyter-widgets/controls",
          "model_module_version": "1.5.0",
          "model_name": "HTMLModel",
          "state": {
            "_dom_classes": [],
            "_model_module": "@jupyter-widgets/controls",
            "_model_module_version": "1.5.0",
            "_model_name": "HTMLModel",
            "_view_count": null,
            "_view_module": "@jupyter-widgets/controls",
            "_view_module_version": "1.5.0",
            "_view_name": "HTMLView",
            "description": "",
            "description_tooltip": null,
            "layout": "IPY_MODEL_3400c9874e5d47e5a876002556ae8ba2",
            "placeholder": "​",
            "style": "IPY_MODEL_ed558567f2254f0facadca0ab51ad516",
            "value": " 232k/232k [00:00&lt;00:00, 5.13MB/s]"
          }
        },
        "a32d506e11c14c68b5375d863789ba83": {
          "model_module": "@jupyter-widgets/base",
          "model_module_version": "1.2.0",
          "model_name": "LayoutModel",
          "state": {
            "_model_module": "@jupyter-widgets/base",
            "_model_module_version": "1.2.0",
            "_model_name": "LayoutModel",
            "_view_count": null,
            "_view_module": "@jupyter-widgets/base",
            "_view_module_version": "1.2.0",
            "_view_name": "LayoutView",
            "align_content": null,
            "align_items": null,
            "align_self": null,
            "border": null,
            "bottom": null,
            "display": null,
            "flex": null,
            "flex_flow": null,
            "grid_area": null,
            "grid_auto_columns": null,
            "grid_auto_flow": null,
            "grid_auto_rows": null,
            "grid_column": null,
            "grid_gap": null,
            "grid_row": null,
            "grid_template_areas": null,
            "grid_template_columns": null,
            "grid_template_rows": null,
            "height": null,
            "justify_content": null,
            "justify_items": null,
            "left": null,
            "margin": null,
            "max_height": null,
            "max_width": null,
            "min_height": null,
            "min_width": null,
            "object_fit": null,
            "object_position": null,
            "order": null,
            "overflow": null,
            "overflow_x": null,
            "overflow_y": null,
            "padding": null,
            "right": null,
            "top": null,
            "visibility": null,
            "width": null
          }
        },
        "a4a648795da845bda386b5a2ea4dd226": {
          "model_module": "@jupyter-widgets/controls",
          "model_module_version": "1.5.0",
          "model_name": "DescriptionStyleModel",
          "state": {
            "_model_module": "@jupyter-widgets/controls",
            "_model_module_version": "1.5.0",
            "_model_name": "DescriptionStyleModel",
            "_view_count": null,
            "_view_module": "@jupyter-widgets/base",
            "_view_module_version": "1.2.0",
            "_view_name": "StyleView",
            "description_width": ""
          }
        },
        "a76fdbf17dc246b2a493c95cc1d084b9": {
          "model_module": "@jupyter-widgets/controls",
          "model_module_version": "1.5.0",
          "model_name": "FloatProgressModel",
          "state": {
            "_dom_classes": [],
            "_model_module": "@jupyter-widgets/controls",
            "_model_module_version": "1.5.0",
            "_model_name": "FloatProgressModel",
            "_view_count": null,
            "_view_module": "@jupyter-widgets/controls",
            "_view_module_version": "1.5.0",
            "_view_name": "ProgressView",
            "bar_style": "success",
            "description": "",
            "description_tooltip": null,
            "layout": "IPY_MODEL_f9a47e07e38a48189786381e9062176c",
            "max": 570,
            "min": 0,
            "orientation": "horizontal",
            "style": "IPY_MODEL_ef24928e0f584fb88192d5f50afcd334",
            "value": 570
          }
        },
        "ad85313ed27c4704857d1df1ff241244": {
          "model_module": "@jupyter-widgets/base",
          "model_module_version": "1.2.0",
          "model_name": "LayoutModel",
          "state": {
            "_model_module": "@jupyter-widgets/base",
            "_model_module_version": "1.2.0",
            "_model_name": "LayoutModel",
            "_view_count": null,
            "_view_module": "@jupyter-widgets/base",
            "_view_module_version": "1.2.0",
            "_view_name": "LayoutView",
            "align_content": null,
            "align_items": null,
            "align_self": null,
            "border": null,
            "bottom": null,
            "display": null,
            "flex": null,
            "flex_flow": null,
            "grid_area": null,
            "grid_auto_columns": null,
            "grid_auto_flow": null,
            "grid_auto_rows": null,
            "grid_column": null,
            "grid_gap": null,
            "grid_row": null,
            "grid_template_areas": null,
            "grid_template_columns": null,
            "grid_template_rows": null,
            "height": null,
            "justify_content": null,
            "justify_items": null,
            "left": null,
            "margin": null,
            "max_height": null,
            "max_width": null,
            "min_height": null,
            "min_width": null,
            "object_fit": null,
            "object_position": null,
            "order": null,
            "overflow": null,
            "overflow_x": null,
            "overflow_y": null,
            "padding": null,
            "right": null,
            "top": null,
            "visibility": null,
            "width": null
          }
        },
        "b5f95f99adec413f81164bc76c38dbd9": {
          "model_module": "@jupyter-widgets/base",
          "model_module_version": "1.2.0",
          "model_name": "LayoutModel",
          "state": {
            "_model_module": "@jupyter-widgets/base",
            "_model_module_version": "1.2.0",
            "_model_name": "LayoutModel",
            "_view_count": null,
            "_view_module": "@jupyter-widgets/base",
            "_view_module_version": "1.2.0",
            "_view_name": "LayoutView",
            "align_content": null,
            "align_items": null,
            "align_self": null,
            "border": null,
            "bottom": null,
            "display": null,
            "flex": null,
            "flex_flow": null,
            "grid_area": null,
            "grid_auto_columns": null,
            "grid_auto_flow": null,
            "grid_auto_rows": null,
            "grid_column": null,
            "grid_gap": null,
            "grid_row": null,
            "grid_template_areas": null,
            "grid_template_columns": null,
            "grid_template_rows": null,
            "height": null,
            "justify_content": null,
            "justify_items": null,
            "left": null,
            "margin": null,
            "max_height": null,
            "max_width": null,
            "min_height": null,
            "min_width": null,
            "object_fit": null,
            "object_position": null,
            "order": null,
            "overflow": null,
            "overflow_x": null,
            "overflow_y": null,
            "padding": null,
            "right": null,
            "top": null,
            "visibility": null,
            "width": null
          }
        },
        "b7f8147d753443068062648527ebfdc6": {
          "model_module": "@jupyter-widgets/controls",
          "model_module_version": "1.5.0",
          "model_name": "ProgressStyleModel",
          "state": {
            "_model_module": "@jupyter-widgets/controls",
            "_model_module_version": "1.5.0",
            "_model_name": "ProgressStyleModel",
            "_view_count": null,
            "_view_module": "@jupyter-widgets/base",
            "_view_module_version": "1.2.0",
            "_view_name": "StyleView",
            "bar_color": null,
            "description_width": ""
          }
        },
        "bc6593a9d1734d8bb5ef3632c3c0c284": {
          "model_module": "@jupyter-widgets/controls",
          "model_module_version": "1.5.0",
          "model_name": "DescriptionStyleModel",
          "state": {
            "_model_module": "@jupyter-widgets/controls",
            "_model_module_version": "1.5.0",
            "_model_name": "DescriptionStyleModel",
            "_view_count": null,
            "_view_module": "@jupyter-widgets/base",
            "_view_module_version": "1.2.0",
            "_view_name": "StyleView",
            "description_width": ""
          }
        },
        "c305394ebbf8457b93250f102333f40b": {
          "model_module": "@jupyter-widgets/controls",
          "model_module_version": "1.5.0",
          "model_name": "ProgressStyleModel",
          "state": {
            "_model_module": "@jupyter-widgets/controls",
            "_model_module_version": "1.5.0",
            "_model_name": "ProgressStyleModel",
            "_view_count": null,
            "_view_module": "@jupyter-widgets/base",
            "_view_module_version": "1.2.0",
            "_view_name": "StyleView",
            "bar_color": null,
            "description_width": ""
          }
        },
        "c3b37021f8994b578c1913b697960073": {
          "model_module": "@jupyter-widgets/controls",
          "model_module_version": "1.5.0",
          "model_name": "DescriptionStyleModel",
          "state": {
            "_model_module": "@jupyter-widgets/controls",
            "_model_module_version": "1.5.0",
            "_model_name": "DescriptionStyleModel",
            "_view_count": null,
            "_view_module": "@jupyter-widgets/base",
            "_view_module_version": "1.2.0",
            "_view_name": "StyleView",
            "description_width": ""
          }
        },
        "c3d3da999ce24026bf11387343fd5848": {
          "model_module": "@jupyter-widgets/controls",
          "model_module_version": "1.5.0",
          "model_name": "FloatProgressModel",
          "state": {
            "_dom_classes": [],
            "_model_module": "@jupyter-widgets/controls",
            "_model_module_version": "1.5.0",
            "_model_name": "FloatProgressModel",
            "_view_count": null,
            "_view_module": "@jupyter-widgets/controls",
            "_view_module_version": "1.5.0",
            "_view_name": "ProgressView",
            "bar_style": "success",
            "description": "",
            "description_tooltip": null,
            "layout": "IPY_MODEL_78e5f701cdf845b1af3b46dbd2f3b53b",
            "max": 466062,
            "min": 0,
            "orientation": "horizontal",
            "style": "IPY_MODEL_b7f8147d753443068062648527ebfdc6",
            "value": 466062
          }
        },
        "c62434ffe8814aa1a613666099e91638": {
          "model_module": "@jupyter-widgets/controls",
          "model_module_version": "1.5.0",
          "model_name": "ProgressStyleModel",
          "state": {
            "_model_module": "@jupyter-widgets/controls",
            "_model_module_version": "1.5.0",
            "_model_name": "ProgressStyleModel",
            "_view_count": null,
            "_view_module": "@jupyter-widgets/base",
            "_view_module_version": "1.2.0",
            "_view_name": "StyleView",
            "bar_color": null,
            "description_width": ""
          }
        },
        "c6487618ba534f469d9cc17b3c003ced": {
          "model_module": "@jupyter-widgets/base",
          "model_module_version": "1.2.0",
          "model_name": "LayoutModel",
          "state": {
            "_model_module": "@jupyter-widgets/base",
            "_model_module_version": "1.2.0",
            "_model_name": "LayoutModel",
            "_view_count": null,
            "_view_module": "@jupyter-widgets/base",
            "_view_module_version": "1.2.0",
            "_view_name": "LayoutView",
            "align_content": null,
            "align_items": null,
            "align_self": null,
            "border": null,
            "bottom": null,
            "display": null,
            "flex": null,
            "flex_flow": null,
            "grid_area": null,
            "grid_auto_columns": null,
            "grid_auto_flow": null,
            "grid_auto_rows": null,
            "grid_column": null,
            "grid_gap": null,
            "grid_row": null,
            "grid_template_areas": null,
            "grid_template_columns": null,
            "grid_template_rows": null,
            "height": null,
            "justify_content": null,
            "justify_items": null,
            "left": null,
            "margin": null,
            "max_height": null,
            "max_width": null,
            "min_height": null,
            "min_width": null,
            "object_fit": null,
            "object_position": null,
            "order": null,
            "overflow": null,
            "overflow_x": null,
            "overflow_y": null,
            "padding": null,
            "right": null,
            "top": null,
            "visibility": null,
            "width": null
          }
        },
        "d10a322f48f4410cbb04d47a651f2678": {
          "model_module": "@jupyter-widgets/controls",
          "model_module_version": "1.5.0",
          "model_name": "HBoxModel",
          "state": {
            "_dom_classes": [],
            "_model_module": "@jupyter-widgets/controls",
            "_model_module_version": "1.5.0",
            "_model_name": "HBoxModel",
            "_view_count": null,
            "_view_module": "@jupyter-widgets/controls",
            "_view_module_version": "1.5.0",
            "_view_name": "HBoxView",
            "box_style": "",
            "children": [
              "IPY_MODEL_80d652fe1c314c22a5e8e226717229b5",
              "IPY_MODEL_4bec0ce95dd04888ab87160e793aef1c",
              "IPY_MODEL_a168f618a8de4d85bee1cc027deefec8"
            ],
            "layout": "IPY_MODEL_13fd9ea2704d4e6ca11c659cd2a2f68a"
          }
        },
        "d201aa9df61f417d96c6dcc0740684e1": {
          "model_module": "@jupyter-widgets/controls",
          "model_module_version": "1.5.0",
          "model_name": "DescriptionStyleModel",
          "state": {
            "_model_module": "@jupyter-widgets/controls",
            "_model_module_version": "1.5.0",
            "_model_name": "DescriptionStyleModel",
            "_view_count": null,
            "_view_module": "@jupyter-widgets/base",
            "_view_module_version": "1.2.0",
            "_view_name": "StyleView",
            "description_width": ""
          }
        },
        "db811746d8044c749726a127f2e63b8d": {
          "model_module": "@jupyter-widgets/controls",
          "model_module_version": "1.5.0",
          "model_name": "HTMLModel",
          "state": {
            "_dom_classes": [],
            "_model_module": "@jupyter-widgets/controls",
            "_model_module_version": "1.5.0",
            "_model_name": "HTMLModel",
            "_view_count": null,
            "_view_module": "@jupyter-widgets/controls",
            "_view_module_version": "1.5.0",
            "_view_name": "HTMLView",
            "description": "",
            "description_tooltip": null,
            "layout": "IPY_MODEL_7e0a27a43e1b4ce2a6ca2aabf7db5744",
            "placeholder": "​",
            "style": "IPY_MODEL_235fc5937e014b3494f4a84d9804cb99",
            "value": " 48.0/48.0 [00:00&lt;00:00, 2.93kB/s]"
          }
        },
        "dc3d23fb49cf450ba72acc9e7ccd5a68": {
          "model_module": "@jupyter-widgets/controls",
          "model_module_version": "1.5.0",
          "model_name": "HTMLModel",
          "state": {
            "_dom_classes": [],
            "_model_module": "@jupyter-widgets/controls",
            "_model_module_version": "1.5.0",
            "_model_name": "HTMLModel",
            "_view_count": null,
            "_view_module": "@jupyter-widgets/controls",
            "_view_module_version": "1.5.0",
            "_view_name": "HTMLView",
            "description": "",
            "description_tooltip": null,
            "layout": "IPY_MODEL_a32d506e11c14c68b5375d863789ba83",
            "placeholder": "​",
            "style": "IPY_MODEL_78b8dcd1a9ee487baa3b61d17e6033cb",
            "value": "model.safetensors: 100%"
          }
        },
        "ed558567f2254f0facadca0ab51ad516": {
          "model_module": "@jupyter-widgets/controls",
          "model_module_version": "1.5.0",
          "model_name": "DescriptionStyleModel",
          "state": {
            "_model_module": "@jupyter-widgets/controls",
            "_model_module_version": "1.5.0",
            "_model_name": "DescriptionStyleModel",
            "_view_count": null,
            "_view_module": "@jupyter-widgets/base",
            "_view_module_version": "1.2.0",
            "_view_name": "StyleView",
            "description_width": ""
          }
        },
        "ef24928e0f584fb88192d5f50afcd334": {
          "model_module": "@jupyter-widgets/controls",
          "model_module_version": "1.5.0",
          "model_name": "ProgressStyleModel",
          "state": {
            "_model_module": "@jupyter-widgets/controls",
            "_model_module_version": "1.5.0",
            "_model_name": "ProgressStyleModel",
            "_view_count": null,
            "_view_module": "@jupyter-widgets/base",
            "_view_module_version": "1.2.0",
            "_view_name": "StyleView",
            "bar_color": null,
            "description_width": ""
          }
        },
        "f29b47868be54e9ca1161afed85530fa": {
          "model_module": "@jupyter-widgets/controls",
          "model_module_version": "1.5.0",
          "model_name": "HTMLModel",
          "state": {
            "_dom_classes": [],
            "_model_module": "@jupyter-widgets/controls",
            "_model_module_version": "1.5.0",
            "_model_name": "HTMLModel",
            "_view_count": null,
            "_view_module": "@jupyter-widgets/controls",
            "_view_module_version": "1.5.0",
            "_view_name": "HTMLView",
            "description": "",
            "description_tooltip": null,
            "layout": "IPY_MODEL_36152f2cd9d146848f1e8cb77ec43148",
            "placeholder": "​",
            "style": "IPY_MODEL_a4a648795da845bda386b5a2ea4dd226",
            "value": "config.json: 100%"
          }
        },
        "f6797c92310e40459ffad8946d2c9bcd": {
          "model_module": "@jupyter-widgets/base",
          "model_module_version": "1.2.0",
          "model_name": "LayoutModel",
          "state": {
            "_model_module": "@jupyter-widgets/base",
            "_model_module_version": "1.2.0",
            "_model_name": "LayoutModel",
            "_view_count": null,
            "_view_module": "@jupyter-widgets/base",
            "_view_module_version": "1.2.0",
            "_view_name": "LayoutView",
            "align_content": null,
            "align_items": null,
            "align_self": null,
            "border": null,
            "bottom": null,
            "display": null,
            "flex": null,
            "flex_flow": null,
            "grid_area": null,
            "grid_auto_columns": null,
            "grid_auto_flow": null,
            "grid_auto_rows": null,
            "grid_column": null,
            "grid_gap": null,
            "grid_row": null,
            "grid_template_areas": null,
            "grid_template_columns": null,
            "grid_template_rows": null,
            "height": null,
            "justify_content": null,
            "justify_items": null,
            "left": null,
            "margin": null,
            "max_height": null,
            "max_width": null,
            "min_height": null,
            "min_width": null,
            "object_fit": null,
            "object_position": null,
            "order": null,
            "overflow": null,
            "overflow_x": null,
            "overflow_y": null,
            "padding": null,
            "right": null,
            "top": null,
            "visibility": null,
            "width": null
          }
        },
        "f8d9ee6e1a394af48a99e7acb3cd8d35": {
          "model_module": "@jupyter-widgets/controls",
          "model_module_version": "1.5.0",
          "model_name": "HBoxModel",
          "state": {
            "_dom_classes": [],
            "_model_module": "@jupyter-widgets/controls",
            "_model_module_version": "1.5.0",
            "_model_name": "HBoxModel",
            "_view_count": null,
            "_view_module": "@jupyter-widgets/controls",
            "_view_module_version": "1.5.0",
            "_view_name": "HBoxView",
            "box_style": "",
            "children": [
              "IPY_MODEL_f29b47868be54e9ca1161afed85530fa",
              "IPY_MODEL_a76fdbf17dc246b2a493c95cc1d084b9",
              "IPY_MODEL_32011a10cca041ef9baec03e6732378d"
            ],
            "layout": "IPY_MODEL_70072101d4ca4d5fa525dd51ba2da541"
          }
        },
        "f9a47e07e38a48189786381e9062176c": {
          "model_module": "@jupyter-widgets/base",
          "model_module_version": "1.2.0",
          "model_name": "LayoutModel",
          "state": {
            "_model_module": "@jupyter-widgets/base",
            "_model_module_version": "1.2.0",
            "_model_name": "LayoutModel",
            "_view_count": null,
            "_view_module": "@jupyter-widgets/base",
            "_view_module_version": "1.2.0",
            "_view_name": "LayoutView",
            "align_content": null,
            "align_items": null,
            "align_self": null,
            "border": null,
            "bottom": null,
            "display": null,
            "flex": null,
            "flex_flow": null,
            "grid_area": null,
            "grid_auto_columns": null,
            "grid_auto_flow": null,
            "grid_auto_rows": null,
            "grid_column": null,
            "grid_gap": null,
            "grid_row": null,
            "grid_template_areas": null,
            "grid_template_columns": null,
            "grid_template_rows": null,
            "height": null,
            "justify_content": null,
            "justify_items": null,
            "left": null,
            "margin": null,
            "max_height": null,
            "max_width": null,
            "min_height": null,
            "min_width": null,
            "object_fit": null,
            "object_position": null,
            "order": null,
            "overflow": null,
            "overflow_x": null,
            "overflow_y": null,
            "padding": null,
            "right": null,
            "top": null,
            "visibility": null,
            "width": null
          }
        }
      }
    }
  },
  "nbformat": 4,
  "nbformat_minor": 0
}
